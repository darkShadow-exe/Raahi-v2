{
 "cells": [
  {
   "cell_type": "markdown",
   "id": "6a66c305",
   "metadata": {},
   "source": [
    "# Raahi-v2 Transit RL Training on Google Colab\n",
    "\n",
    "This notebook trains reinforcement learning agents for transit optimization using synthetic city data.\n",
    "Run on Google Colab with GPU for faster training."
   ]
  },
  {
   "cell_type": "code",
   "execution_count": 1,
   "id": "c789aa51",
   "metadata": {},
   "outputs": [
    {
     "name": "stdout",
     "output_type": "stream",
     "text": [
      "CUDA available: False\n",
      "Using device: cpu\n"
     ]
    }
   ],
   "source": [
    "# Check GPU availability\n",
    "import torch\n",
    "print(f\"CUDA available: {torch.cuda.is_available()}\")\n",
    "if torch.cuda.is_available():\n",
    "    print(f\"GPU: {torch.cuda.get_device_name(0)}\")\n",
    "    device = torch.device(\"cuda\")\n",
    "else:\n",
    "    device = torch.device(\"cpu\")\n",
    "print(f\"Using device: {device}\")"
   ]
  },
  {
   "cell_type": "code",
   "execution_count": 2,
   "id": "79793d0a",
   "metadata": {},
   "outputs": [
    {
     "name": "stdout",
     "output_type": "stream",
     "text": [
      "Rich disabled and patched to prevent recursion errors\n",
      "Logging minimized to prevent recursion\n"
     ]
    }
   ],
   "source": [
    "# Fix Rich recursion errors and patch display methods\n",
    "import sys\n",
    "import warnings\n",
    "import importlib\n",
    "\n",
    "# Completely disable Rich for this notebook\n",
    "import os\n",
    "os.environ[\"STABLE_BASELINES3_DISABLE_RICH\"] = \"true\"\n",
    "os.environ[\"GYMNASIUM_DISABLE_RICH\"] = \"true\"\n",
    "\n",
    "# Set recursion limit much higher\n",
    "sys.setrecursionlimit(10000)\n",
    "\n",
    "# Monkey patch Rich to avoid recursion errors completely\n",
    "try:\n",
    "    from rich import pretty, inspect, traceback\n",
    "    \n",
    "    # Uninstall rich console printing (proper way)\n",
    "    try:\n",
    "        from rich.console import Console\n",
    "        console = Console()\n",
    "        console.quiet = True\n",
    "    except:\n",
    "        pass\n",
    "        \n",
    "    # Install traceback suppressing certain modules\n",
    "    traceback.install(suppress=[traceback, pretty, inspect])\n",
    "    \n",
    "    # Override problematic functions\n",
    "    def safe_repr(obj):\n",
    "        \"\"\"Simple repr that avoids recursion\"\"\"\n",
    "        if hasattr(obj, \"__class__\"):\n",
    "            return f\"<{obj.__class__.__name__} object>\"\n",
    "        return str(type(obj))\n",
    "    \n",
    "    # Patch key methods\n",
    "    setattr(pretty, \"pretty_repr\", safe_repr)\n",
    "    \n",
    "    print(\"Rich disabled and patched to prevent recursion errors\")\n",
    "except ImportError:\n",
    "    print(\"Rich library not found - no patching needed\")\n",
    "\n",
    "# Also patch stable-baselines3 verbosity\n",
    "try:\n",
    "    import logging\n",
    "    logging.getLogger(\"stable_baselines3\").setLevel(logging.ERROR)\n",
    "    logging.getLogger(\"gymnasium\").setLevel(logging.ERROR)\n",
    "    print(\"Logging minimized to prevent recursion\")\n",
    "except:\n",
    "    pass"
   ]
  },
  {
   "cell_type": "code",
   "execution_count": 3,
   "id": "317e7926",
   "metadata": {},
   "outputs": [
    {
     "name": "stdout",
     "output_type": "stream",
     "text": [
      "Operating System: Windows\n",
      "Running on Windows - using Windows-compatible paths\n",
      "PowerShell is available\n",
      "Windows temp directory: C:\\Users\\krish\\AppData\\Local\\Temp\n",
      "Current directory: c:\\Users\\krish\\OneDrive\\Attachments\\Documents\\GitHub\\Raahi-v2\n",
      "PowerShell is available\n",
      "Windows temp directory: C:\\Users\\krish\\AppData\\Local\\Temp\n",
      "Current directory: c:\\Users\\krish\\OneDrive\\Attachments\\Documents\\GitHub\\Raahi-v2\n"
     ]
    }
   ],
   "source": [
    "# Windows environment check\n",
    "import platform\n",
    "import os\n",
    "\n",
    "os_name = platform.system()\n",
    "print(f\"Operating System: {os_name}\")\n",
    "\n",
    "if os_name == 'Windows':\n",
    "    print(\"Running on Windows - using Windows-compatible paths\")\n",
    "    # Set path separator for Windows\n",
    "    path_sep = '\\\\'\n",
    "    \n",
    "    # Check PowerShell availability for Windows\n",
    "    try:\n",
    "        import subprocess\n",
    "        subprocess.run(['powershell', '-Command', 'echo \"PowerShell is available\"'], \n",
    "                      capture_output=True, text=True, check=True)\n",
    "        print(\"PowerShell is available\")\n",
    "    except:\n",
    "        print(\"Warning: PowerShell might not be available\")\n",
    "        \n",
    "    # Verify temp directory access (needed for some operations)\n",
    "    temp_dir = os.environ.get('TEMP')\n",
    "    print(f\"Windows temp directory: {temp_dir}\")\n",
    "    print(f\"Current directory: {os.getcwd()}\")\n",
    "else:\n",
    "    print(f\"Running on {os_name} - using standard paths\")"
   ]
  },
  {
   "cell_type": "code",
   "execution_count": 4,
   "id": "721912de",
   "metadata": {},
   "outputs": [
    {
     "name": "stdout",
     "output_type": "stream",
     "text": [
      "Installing stable-baselines3[extra]...\n",
      "Installing tensorboard...\n",
      "Installing tensorboard...\n",
      "Installing gymnasium...\n",
      "Installing gymnasium...\n",
      "Installing matplotlib...\n",
      "Installing matplotlib...\n",
      "Installing numpy...\n",
      "Installing numpy...\n",
      "Setting up for Windows environment\n",
      "Installing torch...\n",
      "Setting up for Windows environment\n",
      "Installing torch...\n"
     ]
    }
   ],
   "source": [
    "# Install required packages for Windows\n",
    "import sys\n",
    "import subprocess\n",
    "\n",
    "# Windows-friendly installation with suppressed output\n",
    "def install_package(package):\n",
    "    print(f\"Installing {package}...\")\n",
    "    subprocess.check_call([sys.executable, \"-m\", \"pip\", \"install\", package, \"--quiet\"])\n",
    "    \n",
    "install_package(\"stable-baselines3[extra]\")\n",
    "install_package(\"tensorboard\")\n",
    "install_package(\"gymnasium\")\n",
    "install_package(\"matplotlib\")\n",
    "install_package(\"numpy\")\n",
    "\n",
    "# Check if CUDA is available before installing torch\n",
    "import os\n",
    "if os.name == 'nt':  # Windows\n",
    "    print(\"Setting up for Windows environment\")\n",
    "    install_package(\"torch\")"
   ]
  },
  {
   "cell_type": "code",
   "execution_count": 5,
   "id": "a1e26968",
   "metadata": {},
   "outputs": [],
   "source": [
    "# Import libraries\n",
    "import json\n",
    "import random\n",
    "import numpy as np\n",
    "import torch\n",
    "import torch.nn as nn\n",
    "import matplotlib.pyplot as plt\n",
    "from collections import defaultdict, deque\n",
    "from dataclasses import dataclass\n",
    "from typing import List, Dict, Tuple\n",
    "import gymnasium as gym\n",
    "from stable_baselines3 import PPO\n",
    "from stable_baselines3.common.env_util import make_vec_env\n",
    "from stable_baselines3.common.callbacks import EvalCallback\n",
    "import os"
   ]
  },
  {
   "cell_type": "code",
   "execution_count": 6,
   "id": "4efb90c2",
   "metadata": {},
   "outputs": [
    {
     "name": "stdout",
     "output_type": "stream",
     "text": [
      "Installing ipywidgets to improve notebook compatibility with Rich library...\n",
      "ipywidgets installed successfully\n",
      "ipywidgets version: 8.1.7\n",
      "ipywidgets installed successfully\n",
      "ipywidgets version: 8.1.7\n"
     ]
    }
   ],
   "source": [
    "# Install ipywidgets to suppress Rich warnings\n",
    "try:\n",
    "    print(\"Installing ipywidgets to improve notebook compatibility with Rich library...\")\n",
    "    subprocess.check_call([sys.executable, \"-m\", \"pip\", \"install\", \"ipywidgets\", \"--quiet\"])\n",
    "    print(\"ipywidgets installed successfully\")\n",
    "except Exception as e:\n",
    "    print(f\"Note: Could not install ipywidgets: {e}\")\n",
    "    print(\"You might see warnings from Rich library - these can be safely ignored\")\n",
    "\n",
    "# Try to load the widgets to verify installation\n",
    "try:\n",
    "    import ipywidgets\n",
    "    print(f\"ipywidgets version: {ipywidgets.__version__}\")\n",
    "except ImportError:\n",
    "    print(\"ipywidgets could not be imported - Rich warnings may appear but can be ignored\")"
   ]
  },
  {
   "cell_type": "code",
   "execution_count": 7,
   "id": "2b180799",
   "metadata": {},
   "outputs": [
    {
     "name": "stdout",
     "output_type": "stream",
     "text": [
      "City Builder ready\n"
     ]
    }
   ],
   "source": [
    "# City Builder class for generating training data\n",
    "@dataclass\n",
    "class Station:\n",
    "    id: str\n",
    "    x: int\n",
    "    y: int\n",
    "    station_type: str\n",
    "    is_transfer: bool = False\n",
    "\n",
    "class CityBuilder:\n",
    "    def __init__(self, grid_size: int = 8):\n",
    "        self.grid_size = grid_size\n",
    "        self.zone_types = [\"residential\", \"commercial\", \"industrial\"]\n",
    "        self.station_types = [\"bus\", \"tram\", \"metro\"]\n",
    "    \n",
    "    def generate_random_city(self) -> Dict:\n",
    "        zones = self._generate_zones()\n",
    "        stations = self._generate_stations()\n",
    "        connections = self._generate_connections(stations)\n",
    "        routes = self._generate_routes(stations)\n",
    "        \n",
    "        return {\n",
    "            \"grid_size\": self.grid_size,\n",
    "            \"zones\": zones,\n",
    "            \"stations\": stations,\n",
    "            \"connections\": connections,\n",
    "            \"routes\": routes\n",
    "        }\n",
    "    \n",
    "    def _generate_zones(self) -> List[Dict]:\n",
    "        zones = []\n",
    "        for x in range(self.grid_size):\n",
    "            for y in range(self.grid_size):\n",
    "                zone_type = random.choice(self.zone_types)\n",
    "                zones.append({\"x\": x, \"y\": y, \"type\": zone_type})\n",
    "        return zones\n",
    "    \n",
    "    def _generate_stations(self) -> List[Dict]:\n",
    "        stations = []\n",
    "        num_stations = random.randint(5, 15)\n",
    "        \n",
    "        for i in range(num_stations):\n",
    "            x = random.randint(0, self.grid_size - 1)\n",
    "            y = random.randint(0, self.grid_size - 1)\n",
    "            station_type = random.choice(self.station_types)\n",
    "            \n",
    "            stations.append({\n",
    "                \"id\": f\"station_{i}\",\n",
    "                \"x\": x, \"y\": y,\n",
    "                \"type\": station_type,\n",
    "                \"is_transfer\": False\n",
    "            })\n",
    "        return stations\n",
    "    \n",
    "    def _generate_connections(self, stations: List[Dict]) -> List[Dict]:\n",
    "        connections = []\n",
    "        for i, s1 in enumerate(stations):\n",
    "            for j, s2 in enumerate(stations[i+1:], i+1):\n",
    "                dist = abs(s1[\"x\"] - s2[\"x\"]) + abs(s1[\"y\"] - s2[\"y\"])\n",
    "                if dist <= 3:\n",
    "                    connections.append({\n",
    "                        \"from\": s1[\"id\"],\n",
    "                        \"to\": s2[\"id\"],\n",
    "                        \"walk_time\": dist * 60\n",
    "                    })\n",
    "        return connections\n",
    "    \n",
    "    def _generate_routes(self, stations: List[Dict]) -> List[Dict]:\n",
    "        routes = []\n",
    "        station_groups = defaultdict(list)\n",
    "        \n",
    "        for station in stations:\n",
    "            station_groups[station[\"type\"]].append(station)\n",
    "        \n",
    "        route_id = 0\n",
    "        for mode, mode_stations in station_groups.items():\n",
    "            if len(mode_stations) >= 2:\n",
    "                routes.append({\n",
    "                    \"id\": f\"route_{route_id}\",\n",
    "                    \"mode\": mode,\n",
    "                    \"stations\": [s[\"id\"] for s in mode_stations[:4]],\n",
    "                    \"color\": f\"#{''.join([random.choice('0123456789ABCDEF') for _ in range(6)])}\"\n",
    "                })\n",
    "                route_id += 1\n",
    "        \n",
    "        return routes\n",
    "\n",
    "print(\"City Builder ready\")"
   ]
  },
  {
   "cell_type": "code",
   "execution_count": 8,
   "id": "ecf38793",
   "metadata": {},
   "outputs": [
    {
     "name": "stdout",
     "output_type": "stream",
     "text": [
      "Enhanced Transit Environment with improved reward function ready\n"
     ]
    }
   ],
   "source": [
    "# Transit Environment for RL training with passenger demand\n",
    "class TransitEnv(gym.Env):\n",
    "    def __init__(self, grid_size=8, training_cities=None):\n",
    "        super().__init__()\n",
    "        self.grid_size = grid_size\n",
    "        self.city_builder = CityBuilder(grid_size)\n",
    "        self.training_cities = training_cities or []\n",
    "        self.city_index = 0\n",
    "        \n",
    "        # Action space: choose route frequency for each route (0-10)\n",
    "        self.action_space = gym.spaces.Box(\n",
    "            low=0, high=10, shape=(10,), dtype=np.float32\n",
    "        )\n",
    "        \n",
    "        # Observation space: city state + time + demand\n",
    "        obs_size = grid_size * grid_size * 4 + 24 + 10  # zones + time + demand\n",
    "        self.observation_space = gym.spaces.Box(\n",
    "            low=0, high=1, shape=(obs_size,), dtype=np.float32\n",
    "        )\n",
    "        \n",
    "        self.reset()\n",
    "    \n",
    "    def reset(self, seed=None, options=None):\n",
    "        super().reset(seed=seed)\n",
    "        \n",
    "        # Use pre-generated cities if available, otherwise generate new\n",
    "        if self.training_cities:\n",
    "            self.city_data = self.training_cities[self.city_index % len(self.training_cities)]\n",
    "            self.city_index += 1\n",
    "        else:\n",
    "            self.city_data = self.city_builder.generate_random_city()\n",
    "            \n",
    "        self.current_step = 0\n",
    "        self.max_steps = 100\n",
    "        self.current_hour = random.randint(0, 23)  # Random start time\n",
    "        \n",
    "        # Generate passenger demand patterns\n",
    "        self._generate_demand_patterns()\n",
    "        \n",
    "        obs = self._get_observation()\n",
    "        return obs, {}\n",
    "    \n",
    "    def step(self, action):\n",
    "        # Apply actions (route frequencies)\n",
    "        route_frequencies = action\n",
    "        \n",
    "        # Update time and passenger demand\n",
    "        self.current_hour = (self.current_hour + 1) % 24\n",
    "        current_demand = self._get_current_demand()\n",
    "        \n",
    "        # Calculate reward based on efficiency and passenger satisfaction\n",
    "        reward = self._calculate_reward(route_frequencies, current_demand)\n",
    "        \n",
    "        self.current_step += 1\n",
    "        done = self.current_step >= self.max_steps\n",
    "        truncated = False\n",
    "        \n",
    "        obs = self._get_observation()\n",
    "        return obs, reward, done, truncated, {}\n",
    "    \n",
    "    def _generate_demand_patterns(self):\n",
    "        \"\"\"Generate realistic passenger demand patterns\"\"\"\n",
    "        stations = self.city_data[\"stations\"]\n",
    "        zones = self.city_data[\"zones\"]\n",
    "        \n",
    "        # Create zone-based demand patterns\n",
    "        self.zone_demand = {}\n",
    "        for zone in zones:\n",
    "            zone_type = zone[\"type\"]\n",
    "            if zone_type == \"residential\":\n",
    "                # High morning outbound, evening inbound\n",
    "                self.zone_demand[(zone[\"x\"], zone[\"y\"])] = {\n",
    "                    \"morning_out\": random.uniform(0.7, 1.0),\n",
    "                    \"evening_in\": random.uniform(0.7, 1.0)\n",
    "                }\n",
    "            elif zone_type == \"commercial\":\n",
    "                # High morning inbound, evening outbound\n",
    "                self.zone_demand[(zone[\"x\"], zone[\"y\"])] = {\n",
    "                    \"morning_in\": random.uniform(0.6, 0.9),\n",
    "                    \"evening_out\": random.uniform(0.6, 0.9)\n",
    "                }\n",
    "            else:  # industrial\n",
    "                # Steady demand throughout day\n",
    "                self.zone_demand[(zone[\"x\"], zone[\"y\"])] = {\n",
    "                    \"steady\": random.uniform(0.3, 0.6)\n",
    "                }\n",
    "        \n",
    "        # Generate common OD pairs\n",
    "        self.od_pairs = []\n",
    "        for i, s1 in enumerate(stations[:8]):  # Limit to prevent too many pairs\n",
    "            for j, s2 in enumerate(stations[:8]):\n",
    "                if i != j:\n",
    "                    # Distance-based demand (closer = more likely)\n",
    "                    dist = abs(s1[\"x\"] - s2[\"x\"]) + abs(s1[\"y\"] - s2[\"y\"])\n",
    "                    demand_weight = max(0.1, 1.0 - dist / 10.0)\n",
    "                    \n",
    "                    self.od_pairs.append({\n",
    "                        \"origin\": s1[\"id\"],\n",
    "                        \"destination\": s2[\"id\"],\n",
    "                        \"base_demand\": random.uniform(0.1, demand_weight),\n",
    "                        \"peak_multiplier\": random.uniform(1.5, 3.0)\n",
    "                    })\n",
    "    \n",
    "    def _get_current_demand(self):\n",
    "        \"\"\"Get passenger demand for current time\"\"\"\n",
    "        hour = self.current_hour\n",
    "        \n",
    "        # Time-based demand multipliers with more gradual transitions\n",
    "        if 7 <= hour <= 9:  # Morning rush\n",
    "            time_multiplier = 2.0\n",
    "        elif 17 <= hour <= 19:  # Evening rush\n",
    "            time_multiplier = 2.0\n",
    "        elif 6 <= hour < 7:  # Early morning transition\n",
    "            time_multiplier = 1.0 + (hour - 6) * 1.0  # Gradual increase 1.0 -> 2.0\n",
    "        elif 9 < hour <= 10:  # Late morning transition\n",
    "            time_multiplier = 2.0 - (hour - 9) * 1.0  # Gradual decrease 2.0 -> 1.0\n",
    "        elif 16 <= hour < 17:  # Early evening transition\n",
    "            time_multiplier = 1.0 + (hour - 16) * 1.0  # Gradual increase 1.0 -> 2.0\n",
    "        elif 19 < hour <= 20:  # Late evening transition\n",
    "            time_multiplier = 2.0 - (hour - 19) * 1.0  # Gradual decrease 2.0 -> 1.0\n",
    "        elif 10 <= hour <= 16:  # Day time\n",
    "            time_multiplier = 1.0\n",
    "        elif 20 <= hour <= 22:  # Evening to night transition\n",
    "            time_multiplier = 1.0 - (hour - 20) * 0.35  # Gradual decrease 1.0 -> 0.3\n",
    "        elif 4 <= hour < 6:  # Night to morning transition\n",
    "            time_multiplier = 0.3 + (hour - 4) * 0.35  # Gradual increase 0.3 -> 1.0\n",
    "        else:  # Night (22-4)\n",
    "            time_multiplier = 0.3\n",
    "        \n",
    "        # Calculate total demand\n",
    "        total_demand = 0\n",
    "        for od_pair in self.od_pairs:\n",
    "            base = od_pair[\"base_demand\"]\n",
    "            \n",
    "            # Add rush hour effects\n",
    "            if 7 <= hour <= 9 or 17 <= hour <= 19:\n",
    "                demand = base * od_pair[\"peak_multiplier\"] * time_multiplier\n",
    "            else:\n",
    "                demand = base * time_multiplier\n",
    "            \n",
    "            # Add random variation\n",
    "            demand *= random.uniform(0.8, 1.2)\n",
    "            total_demand += demand\n",
    "        \n",
    "        return min(total_demand, 10.0)  # Cap at 10\n",
    "    \n",
    "    def _get_observation(self):\n",
    "        # Convert city data to observation vector\n",
    "        obs = np.zeros(self.grid_size * self.grid_size * 4 + 24 + 10, dtype=np.float32)\n",
    "        \n",
    "        # Encode zones\n",
    "        for zone in self.city_data[\"zones\"]:\n",
    "            idx = zone[\"x\"] * self.grid_size + zone[\"y\"]\n",
    "            if zone[\"type\"] == \"residential\":\n",
    "                obs[idx] = 1.0\n",
    "            elif zone[\"type\"] == \"commercial\":\n",
    "                obs[idx + self.grid_size * self.grid_size] = 1.0\n",
    "            elif zone[\"type\"] == \"industrial\":\n",
    "                obs[idx + 2 * self.grid_size * self.grid_size] = 1.0\n",
    "        \n",
    "        # Encode stations\n",
    "        for station in self.city_data[\"stations\"]:\n",
    "            idx = station[\"x\"] * self.grid_size + station[\"y\"]\n",
    "            obs[idx + 3 * self.grid_size * self.grid_size] = 1.0\n",
    "        \n",
    "        # Encode time of day (one-hot)\n",
    "        time_offset = self.grid_size * self.grid_size * 4\n",
    "        obs[time_offset + self.current_hour] = 1.0\n",
    "        \n",
    "        # Encode current demand levels\n",
    "        demand_offset = time_offset + 24\n",
    "        current_demand = self._get_current_demand()\n",
    "        for i in range(10):\n",
    "            if i < current_demand:\n",
    "                obs[demand_offset + i] = 1.0\n",
    "        \n",
    "        return obs\n",
    "    \n",
    "    def _calculate_reward(self, route_frequencies, current_demand):\n",
    "        \"\"\"\n",
    "        Enhanced balanced reward function with stronger incentives for adequate service:\n",
    "        1. Lower base reward to emphasize service quality\n",
    "        2. Progressive underprovisioning penalties\n",
    "        3. Moderate overprovisioning penalties\n",
    "        4. Strong incentives for meeting demand during peak hours\n",
    "        5. Minimum service requirement\n",
    "        \"\"\"\n",
    "        # Lower base reward to emphasize service quality\n",
    "        base_reward = 5.0  # Reduced from 10.0\n",
    "        \n",
    "        # Service efficiency (frequency vs demand matching)\n",
    "        total_frequency = np.sum(route_frequencies)\n",
    "        \n",
    "        # Time-of-day factors\n",
    "        hour = self.current_hour\n",
    "        is_rush_hour = (7 <= hour <= 9) or (17 <= hour <= 19)\n",
    "        is_day = 6 <= hour <= 22 and not is_rush_hour\n",
    "        is_night = hour < 6 or hour > 22\n",
    "        \n",
    "        # Calculate demand match with enhanced penalties\n",
    "        freq_to_demand_ratio = total_frequency / max(current_demand, 0.1)\n",
    "        \n",
    "        # Progressive demand matching function\n",
    "        if freq_to_demand_ratio > 1.0:  # Overprovisioning\n",
    "            # Calculate overprovision level with moderate penalties\n",
    "            excess_ratio = freq_to_demand_ratio - 1.0\n",
    "            \n",
    "            # Scale penalties by time period\n",
    "            if is_night:\n",
    "                # Higher but reasonable penalty at night\n",
    "                overprovision_penalty = 1.2 * (excess_ratio ** 1.0)\n",
    "            elif is_day:\n",
    "                # Moderate penalty during daytime\n",
    "                overprovision_penalty = 0.8 * (excess_ratio ** 0.9)\n",
    "            else:  # Rush hour\n",
    "                # Very mild penalty during rush hour\n",
    "                overprovision_penalty = 0.4 * (excess_ratio ** 0.7)\n",
    "                \n",
    "            # Cap the penalty to avoid extreme negative rewards\n",
    "            overprovision_penalty = min(overprovision_penalty, 2.0)\n",
    "            demand_match = 1.0 - overprovision_penalty\n",
    "        else:  # Underprovisioning\n",
    "            # Progressive underprovisioning penalties\n",
    "            shortfall = 1.0 - freq_to_demand_ratio\n",
    "            \n",
    "            if is_rush_hour:\n",
    "                # Strong progressive penalties during rush hour\n",
    "                if shortfall > 0.5:  # Severe underprovisioning (< 50% of demand)\n",
    "                    under_penalty = 1.5 * shortfall + 1.0 * (shortfall - 0.5) ** 2\n",
    "                else:\n",
    "                    under_penalty = 1.5 * shortfall\n",
    "            elif is_day:\n",
    "                # Moderate penalties during day\n",
    "                if shortfall > 0.7:  # Severe underprovisioning (< 30% of demand)\n",
    "                    under_penalty = 1.2 * shortfall + 0.8 * (shortfall - 0.7) ** 2\n",
    "                else:\n",
    "                    under_penalty = 1.2 * shortfall\n",
    "            else:  # Night\n",
    "                # Milder penalties at night\n",
    "                if shortfall > 0.8:  # Severe underprovisioning (< 20% of demand)\n",
    "                    under_penalty = 0.9 * shortfall + 0.5 * (shortfall - 0.8) ** 2\n",
    "                else:\n",
    "                    under_penalty = 0.9 * shortfall\n",
    "                    \n",
    "            # Cap the penalty\n",
    "            under_penalty = min(under_penalty, 2.0)\n",
    "            demand_match = 1.0 - under_penalty\n",
    "        \n",
    "        # Ensure demand_match is not negative\n",
    "        demand_match = max(0.0, demand_match)\n",
    "        \n",
    "        # Calculate demand reward component (increased weight)\n",
    "        demand_reward = demand_match * 8.0  # Increased from 5.0\n",
    "        \n",
    "        # Coverage reward - scale with stations\n",
    "        coverage = min(3.0, len(self.city_data[\"stations\"]) * 0.08)  # Slightly reduced\n",
    "        \n",
    "        # More moderate operating costs with time-of-day awareness\n",
    "        if is_night:\n",
    "            cost_multiplier = 0.3  # Reduced from 0.4\n",
    "        elif is_day:\n",
    "            cost_multiplier = 0.2  # Reduced from 0.25\n",
    "        else:  # Rush hour\n",
    "            cost_multiplier = 0.1  # Reduced from 0.15\n",
    "            \n",
    "        # Calculate cost with more balanced formula\n",
    "        cost = (total_frequency * cost_multiplier) + (np.sum(route_frequencies ** 2) * 0.008)  # Reduced quadratic term\n",
    "        \n",
    "        # Enhanced rush hour bonus with tiered structure\n",
    "        if is_rush_hour:\n",
    "            if freq_to_demand_ratio >= 0.9:  # Almost meeting demand\n",
    "                rush_bonus = 6.0  # Increased from 4.0\n",
    "            elif freq_to_demand_ratio >= 0.7:  # Decent coverage\n",
    "                rush_bonus = 3.0  # Increased from 2.0\n",
    "            elif freq_to_demand_ratio >= 0.5:  # Minimum acceptable coverage\n",
    "                rush_bonus = 1.5\n",
    "            else:\n",
    "                rush_bonus = 0.0  # No bonus for poor service during rush hour\n",
    "        else:\n",
    "            rush_bonus = 0.0\n",
    "        \n",
    "        # Waiting time penalty - reduced further\n",
    "        wait_values = 1.0 / (route_frequencies + 0.5)\n",
    "        wait_penalty = min(2.5, np.sum(wait_values) * 0.035)  # Further reduced\n",
    "        \n",
    "        # Balanced distribution bonus - reward balanced distribution\n",
    "        freq_std = np.std(route_frequencies)\n",
    "        balance_bonus = max(0, 2.0 - freq_std * 0.2)\n",
    "        \n",
    "        # Minimum service requirement penalty\n",
    "        min_service_ratio = 0.3  # At least 30% of demand should be met\n",
    "        if freq_to_demand_ratio < min_service_ratio:\n",
    "            min_service_penalty = 3.0 * (min_service_ratio - freq_to_demand_ratio) ** 2\n",
    "        else:\n",
    "            min_service_penalty = 0.0\n",
    "        \n",
    "        # Total reward calculation\n",
    "        reward = base_reward + demand_reward + coverage + rush_bonus + balance_bonus - cost - wait_penalty - min_service_penalty\n",
    "        \n",
    "        return float(reward)\n",
    "\n",
    "print(\"Enhanced Transit Environment with improved reward function ready\")"
   ]
  },
  {
   "cell_type": "code",
   "execution_count": 9,
   "id": "7f5c9f8f",
   "metadata": {},
   "outputs": [
    {
     "name": "stdout",
     "output_type": "stream",
     "text": [
      "Generating training cities...\n",
      "Generated 1 cities\n",
      "Generated 11 cities\n",
      "Generated 21 cities\n",
      "Generated 31 cities\n",
      "Generated 41 cities\n",
      "Generated 50 training cities\n",
      "Sample city has 10 stations\n",
      "Grid size: 15x15\n"
     ]
    }
   ],
   "source": [
    "# Generate training cities\n",
    "print(\"Generating training cities...\")\n",
    "builder = CityBuilder(15)  # 15x15 grid\n",
    "training_cities = []\n",
    "\n",
    "for i in range(50):\n",
    "    city = builder.generate_random_city()\n",
    "    training_cities.append(city)\n",
    "    if i % 10 == 0:\n",
    "        print(f\"Generated {i+1} cities\")\n",
    "\n",
    "print(f\"Generated {len(training_cities)} training cities\")\n",
    "print(f\"Sample city has {len(training_cities[0]['stations'])} stations\")\n",
    "print(f\"Grid size: {training_cities[0]['grid_size']}x{training_cities[0]['grid_size']}\")"
   ]
  },
  {
   "cell_type": "markdown",
   "id": "eda99e47",
   "metadata": {},
   "source": [
    "## Enhanced Balanced Reward Function\n",
    "\n",
    "The TransitEnv uses a carefully tuned reward function that promotes optimal service levels:\n",
    "\n",
    "1. **Lower Base Reward**: Starts at +5.0 (reduced from 10.0) to make service quality more critical for positive rewards\n",
    "2. **Progressive Demand Matching**: \n",
    "   - Moderate penalties for overprovisioning (max 2.0)\n",
    "   - Progressive, quadratic penalties for severe underprovisioning\n",
    "   - Stronger penalties during rush hours when service is most critical\n",
    "3. **Minimum Service Requirement**:\n",
    "   - New quadratic penalty when service falls below 30% of demand\n",
    "   - Creates a \"service floor\" to prevent extreme underprovisioning\n",
    "4. **Balanced Operating Costs**:\n",
    "   - Reduced cost multipliers (0.3 night, 0.2 day, 0.1 rush hour)\n",
    "   - Lower quadratic cost component for more realistic operations modeling\n",
    "5. **Enhanced Rush Hour Incentives**:\n",
    "   - Tiered bonus structure with stronger rewards (up to 6.0)\n",
    "   - No bonus for poor service (below 50% of demand)\n",
    "   - Increased bonus for adequate service (90%+ of demand)\n",
    "6. **Improved Demand Transitions**:\n",
    "   - More gradual transitions between time periods\n",
    "   - Realistic ramping up/down of demand between night, day, and peak hours\n",
    "\n",
    "This design creates a more balanced optimization target that strongly discourages extreme underprovisioning while still maintaining cost efficiency."
   ]
  },
  {
   "cell_type": "code",
   "execution_count": 10,
   "id": "ab9b0bee",
   "metadata": {},
   "outputs": [
    {
     "name": "stdout",
     "output_type": "stream",
     "text": [
      "Demand Pattern Analysis:\n",
      "OD pairs generated: 56\n",
      "Zone demand patterns: 225\n",
      "Peak demand: 10.00\n",
      "Low demand: 2.38\n",
      "Rush hours (7-9, 17-19): [10.0, 10.0, 10.0, 10.0, 10.0, 10.0]\n"
     ]
    },
    {
     "data": {
      "image/png": "[encoded data removed]",
      "text/plain": [
       "<Figure size 1000x400 with 1 Axes>"
      ]
     },
     "metadata": {},
     "output_type": "display_data"
    }
   ],
   "source": [
    "# Analyze demand patterns\n",
    "print(\"Demand Pattern Analysis:\")\n",
    "\n",
    "# Test environment with demand\n",
    "test_env = TransitEnv(grid_size=15, training_cities=training_cities[:1])\n",
    "obs, info = test_env.reset()\n",
    "\n",
    "print(f\"OD pairs generated: {len(test_env.od_pairs)}\")\n",
    "print(f\"Zone demand patterns: {len(test_env.zone_demand)}\")\n",
    "\n",
    "# Show demand variation over 24 hours\n",
    "hourly_demand = []\n",
    "for hour in range(24):\n",
    "    test_env.current_hour = hour\n",
    "    demand = test_env._get_current_demand()\n",
    "    hourly_demand.append(demand)\n",
    "\n",
    "print(f\"Peak demand: {max(hourly_demand):.2f}\")\n",
    "print(f\"Low demand: {min(hourly_demand):.2f}\")\n",
    "print(f\"Rush hours (7-9, 17-19): {[hourly_demand[i] for i in [7,8,9,17,18,19]]}\")\n",
    "\n",
    "# Plot demand curve\n",
    "import matplotlib.pyplot as plt\n",
    "plt.figure(figsize=(10, 4))\n",
    "plt.plot(range(24), hourly_demand, marker='o')\n",
    "plt.title(\"Passenger Demand by Hour\")\n",
    "plt.xlabel(\"Hour of Day\")\n",
    "plt.ylabel(\"Demand Level\")\n",
    "plt.grid(True, alpha=0.3)\n",
    "plt.show()"
   ]
  },
  {
   "cell_type": "code",
   "execution_count": 11,
   "id": "e7d60595",
   "metadata": {},
   "outputs": [
    {
     "name": "stdout",
     "output_type": "stream",
     "text": [
      "Environment created with 50 training cities\n",
      "Action space: Box(0.0, 10.0, (10,), float32)\n",
      "Observation space: Box(0.0, 1.0, (934,), float32)\n",
      "Initial observation shape: (934,)\n",
      "Current city has 6 stations\n",
      "Test step reward: -6.443274021148682\n"
     ]
    }
   ],
   "source": [
    "# Create environment with training cities\n",
    "env = TransitEnv(grid_size=15, training_cities=training_cities)\n",
    "print(f\"Environment created with {len(training_cities)} training cities\")\n",
    "print(f\"Action space: {env.action_space}\")\n",
    "print(f\"Observation space: {env.observation_space}\")\n",
    "\n",
    "# Test environment\n",
    "obs, info = env.reset()\n",
    "print(f\"Initial observation shape: {obs.shape}\")\n",
    "print(f\"Current city has {len(env.city_data['stations'])} stations\")\n",
    "\n",
    "action = env.action_space.sample()\n",
    "obs, reward, done, truncated, info = env.step(action)\n",
    "print(f\"Test step reward: {reward}\")"
   ]
  },
  {
   "cell_type": "code",
   "execution_count": 12,
   "id": "745016ef",
   "metadata": {},
   "outputs": [
    {
     "name": "stdout",
     "output_type": "stream",
     "text": [
      "Creating PPO model...\n",
      "PPO model successfully created on cpu\n",
      "Network architecture: 2 hidden layers with 128 neurons each\n",
      "PPO model successfully created on cpu\n",
      "Network architecture: 2 hidden layers with 128 neurons each\n"
     ]
    }
   ],
   "source": [
    "# Setup PPO model with optimized parameters - with recursion error prevention\n",
    "try:\n",
    "    # Further reduce logging and disable rich printing\n",
    "    import logging\n",
    "    logging.getLogger(\"stable_baselines3\").setLevel(logging.ERROR)\n",
    "    \n",
    "    # Use a safer initialization approach\n",
    "    print(\"Creating PPO model...\")\n",
    "    \n",
    "    # Define parameters separately to avoid deep nesting\n",
    "    policy_type = \"MlpPolicy\"\n",
    "    policy_kwargs = {\"net_arch\": [128, 128]}  # Optimized network architecture\n",
    "    \n",
    "    model = PPO(\n",
    "        policy_type,\n",
    "        env,\n",
    "        learning_rate=3e-4,\n",
    "        n_steps=2048,\n",
    "        batch_size=64,\n",
    "        n_epochs=10,\n",
    "        gamma=0.99,\n",
    "        gae_lambda=0.95,\n",
    "        clip_range=0.2,\n",
    "        ent_coef=0.01,\n",
    "        policy_kwargs=policy_kwargs,\n",
    "        device=device,\n",
    "        verbose=0,  # Reduce verbosity to avoid recursion\n",
    "        tensorboard_log=\"./logs/\"\n",
    "    )\n",
    "    \n",
    "    print(f\"PPO model successfully created on {device}\")\n",
    "    print(f\"Network architecture: 2 hidden layers with 128 neurons each\")\n",
    "except Exception as e:\n",
    "    print(f\"Error creating model: {str(e)}\")\n",
    "    print(\"Trying with simplest possible parameters...\")\n",
    "    \n",
    "    # Fallback to absolute minimal parameters\n",
    "    model = PPO(\n",
    "        \"MlpPolicy\",\n",
    "        env,\n",
    "        verbose=0,\n",
    "        device=device\n",
    "    )\n",
    "    print(\"Created basic PPO model with default parameters\")"
   ]
  },
  {
   "cell_type": "code",
   "execution_count": 13,
   "id": "8ff00dbc",
   "metadata": {},
   "outputs": [
    {
     "data": {
      "application/vnd.jupyter.widget-view+json": {
       "model_id": "4394c6080c0842f8949ae32b7a25caf8",
       "version_major": 2,
       "version_minor": 0
      },
      "text/plain": [
       "Output()"
      ]
     },
     "metadata": {},
     "output_type": "display_data"
    },
    {
     "name": "stdout",
     "output_type": "stream",
     "text": [
      "Starting training...\n",
      "Starting enhanced training...\n",
      "Directory created/verified: models\n",
      "Directory created/verified: logs\n",
      "Directory created/verified: animations\n"
     ]
    },
    {
     "data": {
      "text/html": [
       "<pre style=\"white-space:pre;overflow-x:auto;line-height:normal;font-family:Menlo,'DejaVu Sans Mono',consolas,'Courier New',monospace\">c:\\Users\\krish\\OneDrive\\Attachments\\Documents\\GitHub\\Raahi-v2\\.venv\\Lib\\site-packages\\stable_baselines3\\common\\eval\n",
       "uation.py:67: UserWarning: Evaluation environment is not wrapped with a ``Monitor`` wrapper. This may result in \n",
       "reporting modified episode lengths and rewards, if other wrappers happen to modify these. Consider wrapping \n",
       "environment first with ``Monitor`` wrapper.\n",
       "  warnings.warn(\n",
       "</pre>\n"
      ],
      "text/plain": [
       "c:\\Users\\krish\\OneDrive\\Attachments\\Documents\\GitHub\\Raahi-v2\\.venv\\Lib\\site-packages\\stable_baselines3\\common\\eval\n",
       "uation.py:67: UserWarning: Evaluation environment is not wrapped with a ``Monitor`` wrapper. This may result in \n",
       "reporting modified episode lengths and rewards, if other wrappers happen to modify these. Consider wrapping \n",
       "environment first with ``Monitor`` wrapper.\n",
       "  warnings.warn(\n"
      ]
     },
     "metadata": {},
     "output_type": "display_data"
    },
    {
     "data": {
      "text/html": [
       "<pre style=\"white-space:pre;overflow-x:auto;line-height:normal;font-family:Menlo,'DejaVu Sans Mono',consolas,'Courier New',monospace\">Eval num_timesteps=5000, episode_reward=735.43 +/- 26.65\n",
       "</pre>\n"
      ],
      "text/plain": [
       "Eval num_timesteps=5000, episode_reward=735.43 +/- 26.65\n"
      ]
     },
     "metadata": {},
     "output_type": "display_data"
    },
    {
     "data": {
      "text/html": [
       "<pre style=\"white-space:pre;overflow-x:auto;line-height:normal;font-family:Menlo,'DejaVu Sans Mono',consolas,'Courier New',monospace\">Episode length: 100.00 +/- 0.00\n",
       "</pre>\n"
      ],
      "text/plain": [
       "Episode length: 100.00 +/- 0.00\n"
      ]
     },
     "metadata": {},
     "output_type": "display_data"
    },
    {
     "data": {
      "text/html": [
       "<pre style=\"white-space:pre;overflow-x:auto;line-height:normal;font-family:Menlo,'DejaVu Sans Mono',consolas,'Courier New',monospace\">New best mean reward!\n",
       "</pre>\n"
      ],
      "text/plain": [
       "New best mean reward!\n"
      ]
     },
     "metadata": {},
     "output_type": "display_data"
    },
    {
     "data": {
      "text/html": [
       "<pre style=\"white-space:pre;overflow-x:auto;line-height:normal;font-family:Menlo,'DejaVu Sans Mono',consolas,'Courier New',monospace\">Eval num_timesteps=10000, episode_reward=717.47 +/- 25.21\n",
       "</pre>\n"
      ],
      "text/plain": [
       "Eval num_timesteps=10000, episode_reward=717.47 +/- 25.21\n"
      ]
     },
     "metadata": {},
     "output_type": "display_data"
    },
    {
     "data": {
      "text/html": [
       "<pre style=\"white-space:pre;overflow-x:auto;line-height:normal;font-family:Menlo,'DejaVu Sans Mono',consolas,'Courier New',monospace\">Episode length: 100.00 +/- 0.00\n",
       "</pre>\n"
      ],
      "text/plain": [
       "Episode length: 100.00 +/- 0.00\n"
      ]
     },
     "metadata": {},
     "output_type": "display_data"
    },
    {
     "data": {
      "text/html": [
       "<pre style=\"white-space:pre;overflow-x:auto;line-height:normal;font-family:Menlo,'DejaVu Sans Mono',consolas,'Courier New',monospace\">Eval num_timesteps=15000, episode_reward=750.28 +/- 14.85\n",
       "</pre>\n"
      ],
      "text/plain": [
       "Eval num_timesteps=15000, episode_reward=750.28 +/- 14.85\n"
      ]
     },
     "metadata": {},
     "output_type": "display_data"
    },
    {
     "data": {
      "text/html": [
       "<pre style=\"white-space:pre;overflow-x:auto;line-height:normal;font-family:Menlo,'DejaVu Sans Mono',consolas,'Courier New',monospace\">Episode length: 100.00 +/- 0.00\n",
       "</pre>\n"
      ],
      "text/plain": [
       "Episode length: 100.00 +/- 0.00\n"
      ]
     },
     "metadata": {},
     "output_type": "display_data"
    },
    {
     "data": {
      "text/html": [
       "<pre style=\"white-space:pre;overflow-x:auto;line-height:normal;font-family:Menlo,'DejaVu Sans Mono',consolas,'Courier New',monospace\">New best mean reward!\n",
       "</pre>\n"
      ],
      "text/plain": [
       "New best mean reward!\n"
      ]
     },
     "metadata": {},
     "output_type": "display_data"
    },
    {
     "data": {
      "text/html": [
       "<pre style=\"white-space:pre;overflow-x:auto;line-height:normal;font-family:Menlo,'DejaVu Sans Mono',consolas,'Courier New',monospace\">Eval num_timesteps=20000, episode_reward=795.21 +/- 27.78\n",
       "</pre>\n"
      ],
      "text/plain": [
       "Eval num_timesteps=20000, episode_reward=795.21 +/- 27.78\n"
      ]
     },
     "metadata": {},
     "output_type": "display_data"
    },
    {
     "data": {
      "text/html": [
       "<pre style=\"white-space:pre;overflow-x:auto;line-height:normal;font-family:Menlo,'DejaVu Sans Mono',consolas,'Courier New',monospace\">Episode length: 100.00 +/- 0.00\n",
       "</pre>\n"
      ],
      "text/plain": [
       "Episode length: 100.00 +/- 0.00\n"
      ]
     },
     "metadata": {},
     "output_type": "display_data"
    },
    {
     "data": {
      "text/html": [
       "<pre style=\"white-space:pre;overflow-x:auto;line-height:normal;font-family:Menlo,'DejaVu Sans Mono',consolas,'Courier New',monospace\">New best mean reward!\n",
       "</pre>\n"
      ],
      "text/plain": [
       "New best mean reward!\n"
      ]
     },
     "metadata": {},
     "output_type": "display_data"
    },
    {
     "data": {
      "text/html": [
       "<pre style=\"white-space:pre;overflow-x:auto;line-height:normal;font-family:Menlo,'DejaVu Sans Mono',consolas,'Courier New',monospace\">Eval num_timesteps=25000, episode_reward=793.98 +/- 64.58\n",
       "</pre>\n"
      ],
      "text/plain": [
       "Eval num_timesteps=25000, episode_reward=793.98 +/- 64.58\n"
      ]
     },
     "metadata": {},
     "output_type": "display_data"
    },
    {
     "data": {
      "text/html": [
       "<pre style=\"white-space:pre;overflow-x:auto;line-height:normal;font-family:Menlo,'DejaVu Sans Mono',consolas,'Courier New',monospace\">Episode length: 100.00 +/- 0.00\n",
       "</pre>\n"
      ],
      "text/plain": [
       "Episode length: 100.00 +/- 0.00\n"
      ]
     },
     "metadata": {},
     "output_type": "display_data"
    },
    {
     "data": {
      "text/html": [
       "<pre style=\"white-space:pre;overflow-x:auto;line-height:normal;font-family:Menlo,'DejaVu Sans Mono',consolas,'Courier New',monospace\">Eval num_timesteps=30000, episode_reward=802.06 +/- 87.40\n",
       "</pre>\n"
      ],
      "text/plain": [
       "Eval num_timesteps=30000, episode_reward=802.06 +/- 87.40\n"
      ]
     },
     "metadata": {},
     "output_type": "display_data"
    },
    {
     "data": {
      "text/html": [
       "<pre style=\"white-space:pre;overflow-x:auto;line-height:normal;font-family:Menlo,'DejaVu Sans Mono',consolas,'Courier New',monospace\">Episode length: 100.00 +/- 0.00\n",
       "</pre>\n"
      ],
      "text/plain": [
       "Episode length: 100.00 +/- 0.00\n"
      ]
     },
     "metadata": {},
     "output_type": "display_data"
    },
    {
     "data": {
      "text/html": [
       "<pre style=\"white-space:pre;overflow-x:auto;line-height:normal;font-family:Menlo,'DejaVu Sans Mono',consolas,'Courier New',monospace\">New best mean reward!\n",
       "</pre>\n"
      ],
      "text/plain": [
       "New best mean reward!\n"
      ]
     },
     "metadata": {},
     "output_type": "display_data"
    },
    {
     "data": {
      "text/html": [
       "<pre style=\"white-space:pre;overflow-x:auto;line-height:normal;font-family:Menlo,'DejaVu Sans Mono',consolas,'Courier New',monospace\">Eval num_timesteps=35000, episode_reward=803.45 +/- 38.72\n",
       "</pre>\n"
      ],
      "text/plain": [
       "Eval num_timesteps=35000, episode_reward=803.45 +/- 38.72\n"
      ]
     },
     "metadata": {},
     "output_type": "display_data"
    },
    {
     "data": {
      "text/html": [
       "<pre style=\"white-space:pre;overflow-x:auto;line-height:normal;font-family:Menlo,'DejaVu Sans Mono',consolas,'Courier New',monospace\">Episode length: 100.00 +/- 0.00\n",
       "</pre>\n"
      ],
      "text/plain": [
       "Episode length: 100.00 +/- 0.00\n"
      ]
     },
     "metadata": {},
     "output_type": "display_data"
    },
    {
     "data": {
      "text/html": [
       "<pre style=\"white-space:pre;overflow-x:auto;line-height:normal;font-family:Menlo,'DejaVu Sans Mono',consolas,'Courier New',monospace\">New best mean reward!\n",
       "</pre>\n"
      ],
      "text/plain": [
       "New best mean reward!\n"
      ]
     },
     "metadata": {},
     "output_type": "display_data"
    },
    {
     "data": {
      "text/html": [
       "<pre style=\"white-space:pre;overflow-x:auto;line-height:normal;font-family:Menlo,'DejaVu Sans Mono',consolas,'Courier New',monospace\">Eval num_timesteps=40000, episode_reward=784.56 +/- 37.10\n",
       "</pre>\n"
      ],
      "text/plain": [
       "Eval num_timesteps=40000, episode_reward=784.56 +/- 37.10\n"
      ]
     },
     "metadata": {},
     "output_type": "display_data"
    },
    {
     "data": {
      "text/html": [
       "<pre style=\"white-space:pre;overflow-x:auto;line-height:normal;font-family:Menlo,'DejaVu Sans Mono',consolas,'Courier New',monospace\">Episode length: 100.00 +/- 0.00\n",
       "</pre>\n"
      ],
      "text/plain": [
       "Episode length: 100.00 +/- 0.00\n"
      ]
     },
     "metadata": {},
     "output_type": "display_data"
    },
    {
     "data": {
      "text/html": [
       "<pre style=\"white-space:pre;overflow-x:auto;line-height:normal;font-family:Menlo,'DejaVu Sans Mono',consolas,'Courier New',monospace\">Eval num_timesteps=45000, episode_reward=812.00 +/- 45.71\n",
       "</pre>\n"
      ],
      "text/plain": [
       "Eval num_timesteps=45000, episode_reward=812.00 +/- 45.71\n"
      ]
     },
     "metadata": {},
     "output_type": "display_data"
    },
    {
     "data": {
      "text/html": [
       "<pre style=\"white-space:pre;overflow-x:auto;line-height:normal;font-family:Menlo,'DejaVu Sans Mono',consolas,'Courier New',monospace\">Episode length: 100.00 +/- 0.00\n",
       "</pre>\n"
      ],
      "text/plain": [
       "Episode length: 100.00 +/- 0.00\n"
      ]
     },
     "metadata": {},
     "output_type": "display_data"
    },
    {
     "data": {
      "text/html": [
       "<pre style=\"white-space:pre;overflow-x:auto;line-height:normal;font-family:Menlo,'DejaVu Sans Mono',consolas,'Courier New',monospace\">New best mean reward!\n",
       "</pre>\n"
      ],
      "text/plain": [
       "New best mean reward!\n"
      ]
     },
     "metadata": {},
     "output_type": "display_data"
    },
    {
     "data": {
      "text/html": [
       "<pre style=\"white-space:pre;overflow-x:auto;line-height:normal;font-family:Menlo,'DejaVu Sans Mono',consolas,'Courier New',monospace\">Eval num_timesteps=50000, episode_reward=828.90 +/- 40.17\n",
       "</pre>\n"
      ],
      "text/plain": [
       "Eval num_timesteps=50000, episode_reward=828.90 +/- 40.17\n"
      ]
     },
     "metadata": {},
     "output_type": "display_data"
    },
    {
     "data": {
      "text/html": [
       "<pre style=\"white-space:pre;overflow-x:auto;line-height:normal;font-family:Menlo,'DejaVu Sans Mono',consolas,'Courier New',monospace\">Episode length: 100.00 +/- 0.00\n",
       "</pre>\n"
      ],
      "text/plain": [
       "Episode length: 100.00 +/- 0.00\n"
      ]
     },
     "metadata": {},
     "output_type": "display_data"
    },
    {
     "data": {
      "text/html": [
       "<pre style=\"white-space:pre;overflow-x:auto;line-height:normal;font-family:Menlo,'DejaVu Sans Mono',consolas,'Courier New',monospace\">New best mean reward!\n",
       "</pre>\n"
      ],
      "text/plain": [
       "New best mean reward!\n"
      ]
     },
     "metadata": {},
     "output_type": "display_data"
    },
    {
     "data": {
      "text/html": [
       "<pre style=\"white-space:pre;overflow-x:auto;line-height:normal;font-family:Menlo,'DejaVu Sans Mono',consolas,'Courier New',monospace\">Eval num_timesteps=55000, episode_reward=783.74 +/- 29.73\n",
       "</pre>\n"
      ],
      "text/plain": [
       "Eval num_timesteps=55000, episode_reward=783.74 +/- 29.73\n"
      ]
     },
     "metadata": {},
     "output_type": "display_data"
    },
    {
     "data": {
      "text/html": [
       "<pre style=\"white-space:pre;overflow-x:auto;line-height:normal;font-family:Menlo,'DejaVu Sans Mono',consolas,'Courier New',monospace\">Episode length: 100.00 +/- 0.00\n",
       "</pre>\n"
      ],
      "text/plain": [
       "Episode length: 100.00 +/- 0.00\n"
      ]
     },
     "metadata": {},
     "output_type": "display_data"
    },
    {
     "data": {
      "text/html": [
       "<pre style=\"white-space:pre;overflow-x:auto;line-height:normal;font-family:Menlo,'DejaVu Sans Mono',consolas,'Courier New',monospace\">Eval num_timesteps=60000, episode_reward=883.77 +/- 63.41\n",
       "</pre>\n"
      ],
      "text/plain": [
       "Eval num_timesteps=60000, episode_reward=883.77 +/- 63.41\n"
      ]
     },
     "metadata": {},
     "output_type": "display_data"
    },
    {
     "data": {
      "text/html": [
       "<pre style=\"white-space:pre;overflow-x:auto;line-height:normal;font-family:Menlo,'DejaVu Sans Mono',consolas,'Courier New',monospace\">Episode length: 100.00 +/- 0.00\n",
       "</pre>\n"
      ],
      "text/plain": [
       "Episode length: 100.00 +/- 0.00\n"
      ]
     },
     "metadata": {},
     "output_type": "display_data"
    },
    {
     "data": {
      "text/html": [
       "<pre style=\"white-space:pre;overflow-x:auto;line-height:normal;font-family:Menlo,'DejaVu Sans Mono',consolas,'Courier New',monospace\">New best mean reward!\n",
       "</pre>\n"
      ],
      "text/plain": [
       "New best mean reward!\n"
      ]
     },
     "metadata": {},
     "output_type": "display_data"
    },
    {
     "data": {
      "text/html": [
       "<pre style=\"white-space:pre;overflow-x:auto;line-height:normal;font-family:Menlo,'DejaVu Sans Mono',consolas,'Courier New',monospace\">Eval num_timesteps=65000, episode_reward=942.29 +/- 34.03\n",
       "</pre>\n"
      ],
      "text/plain": [
       "Eval num_timesteps=65000, episode_reward=942.29 +/- 34.03\n"
      ]
     },
     "metadata": {},
     "output_type": "display_data"
    },
    {
     "data": {
      "text/html": [
       "<pre style=\"white-space:pre;overflow-x:auto;line-height:normal;font-family:Menlo,'DejaVu Sans Mono',consolas,'Courier New',monospace\">Episode length: 100.00 +/- 0.00\n",
       "</pre>\n"
      ],
      "text/plain": [
       "Episode length: 100.00 +/- 0.00\n"
      ]
     },
     "metadata": {},
     "output_type": "display_data"
    },
    {
     "data": {
      "text/html": [
       "<pre style=\"white-space:pre;overflow-x:auto;line-height:normal;font-family:Menlo,'DejaVu Sans Mono',consolas,'Courier New',monospace\">New best mean reward!\n",
       "</pre>\n"
      ],
      "text/plain": [
       "New best mean reward!\n"
      ]
     },
     "metadata": {},
     "output_type": "display_data"
    },
    {
     "data": {
      "text/html": [
       "<pre style=\"white-space:pre;overflow-x:auto;line-height:normal;font-family:Menlo,'DejaVu Sans Mono',consolas,'Courier New',monospace\">Eval num_timesteps=70000, episode_reward=894.38 +/- 40.61\n",
       "</pre>\n"
      ],
      "text/plain": [
       "Eval num_timesteps=70000, episode_reward=894.38 +/- 40.61\n"
      ]
     },
     "metadata": {},
     "output_type": "display_data"
    },
    {
     "data": {
      "text/html": [
       "<pre style=\"white-space:pre;overflow-x:auto;line-height:normal;font-family:Menlo,'DejaVu Sans Mono',consolas,'Courier New',monospace\">Episode length: 100.00 +/- 0.00\n",
       "</pre>\n"
      ],
      "text/plain": [
       "Episode length: 100.00 +/- 0.00\n"
      ]
     },
     "metadata": {},
     "output_type": "display_data"
    },
    {
     "data": {
      "text/html": [
       "<pre style=\"white-space:pre;overflow-x:auto;line-height:normal;font-family:Menlo,'DejaVu Sans Mono',consolas,'Courier New',monospace\">Eval num_timesteps=75000, episode_reward=889.58 +/- 77.23\n",
       "</pre>\n"
      ],
      "text/plain": [
       "Eval num_timesteps=75000, episode_reward=889.58 +/- 77.23\n"
      ]
     },
     "metadata": {},
     "output_type": "display_data"
    },
    {
     "data": {
      "text/html": [
       "<pre style=\"white-space:pre;overflow-x:auto;line-height:normal;font-family:Menlo,'DejaVu Sans Mono',consolas,'Courier New',monospace\">Episode length: 100.00 +/- 0.00\n",
       "</pre>\n"
      ],
      "text/plain": [
       "Episode length: 100.00 +/- 0.00\n"
      ]
     },
     "metadata": {},
     "output_type": "display_data"
    },
    {
     "data": {
      "text/html": [
       "<pre style=\"white-space:pre;overflow-x:auto;line-height:normal;font-family:Menlo,'DejaVu Sans Mono',consolas,'Courier New',monospace\">Eval num_timesteps=80000, episode_reward=918.48 +/- 54.60\n",
       "</pre>\n"
      ],
      "text/plain": [
       "Eval num_timesteps=80000, episode_reward=918.48 +/- 54.60\n"
      ]
     },
     "metadata": {},
     "output_type": "display_data"
    },
    {
     "data": {
      "text/html": [
       "<pre style=\"white-space:pre;overflow-x:auto;line-height:normal;font-family:Menlo,'DejaVu Sans Mono',consolas,'Courier New',monospace\">Episode length: 100.00 +/- 0.00\n",
       "</pre>\n"
      ],
      "text/plain": [
       "Episode length: 100.00 +/- 0.00\n"
      ]
     },
     "metadata": {},
     "output_type": "display_data"
    },
    {
     "data": {
      "text/html": [
       "<pre style=\"white-space:pre;overflow-x:auto;line-height:normal;font-family:Menlo,'DejaVu Sans Mono',consolas,'Courier New',monospace\">Eval num_timesteps=85000, episode_reward=939.79 +/- 32.71\n",
       "</pre>\n"
      ],
      "text/plain": [
       "Eval num_timesteps=85000, episode_reward=939.79 +/- 32.71\n"
      ]
     },
     "metadata": {},
     "output_type": "display_data"
    },
    {
     "data": {
      "text/html": [
       "<pre style=\"white-space:pre;overflow-x:auto;line-height:normal;font-family:Menlo,'DejaVu Sans Mono',consolas,'Courier New',monospace\">Episode length: 100.00 +/- 0.00\n",
       "</pre>\n"
      ],
      "text/plain": [
       "Episode length: 100.00 +/- 0.00\n"
      ]
     },
     "metadata": {},
     "output_type": "display_data"
    },
    {
     "data": {
      "text/html": [
       "<pre style=\"white-space:pre;overflow-x:auto;line-height:normal;font-family:Menlo,'DejaVu Sans Mono',consolas,'Courier New',monospace\">Eval num_timesteps=90000, episode_reward=949.70 +/- 36.43\n",
       "</pre>\n"
      ],
      "text/plain": [
       "Eval num_timesteps=90000, episode_reward=949.70 +/- 36.43\n"
      ]
     },
     "metadata": {},
     "output_type": "display_data"
    },
    {
     "data": {
      "text/html": [
       "<pre style=\"white-space:pre;overflow-x:auto;line-height:normal;font-family:Menlo,'DejaVu Sans Mono',consolas,'Courier New',monospace\">Episode length: 100.00 +/- 0.00\n",
       "</pre>\n"
      ],
      "text/plain": [
       "Episode length: 100.00 +/- 0.00\n"
      ]
     },
     "metadata": {},
     "output_type": "display_data"
    },
    {
     "data": {
      "text/html": [
       "<pre style=\"white-space:pre;overflow-x:auto;line-height:normal;font-family:Menlo,'DejaVu Sans Mono',consolas,'Courier New',monospace\">New best mean reward!\n",
       "</pre>\n"
      ],
      "text/plain": [
       "New best mean reward!\n"
      ]
     },
     "metadata": {},
     "output_type": "display_data"
    },
    {
     "data": {
      "text/html": [
       "<pre style=\"white-space:pre;overflow-x:auto;line-height:normal;font-family:Menlo,'DejaVu Sans Mono',consolas,'Courier New',monospace\">Eval num_timesteps=95000, episode_reward=923.87 +/- 71.56\n",
       "</pre>\n"
      ],
      "text/plain": [
       "Eval num_timesteps=95000, episode_reward=923.87 +/- 71.56\n"
      ]
     },
     "metadata": {},
     "output_type": "display_data"
    },
    {
     "data": {
      "text/html": [
       "<pre style=\"white-space:pre;overflow-x:auto;line-height:normal;font-family:Menlo,'DejaVu Sans Mono',consolas,'Courier New',monospace\">Episode length: 100.00 +/- 0.00\n",
       "</pre>\n"
      ],
      "text/plain": [
       "Episode length: 100.00 +/- 0.00\n"
      ]
     },
     "metadata": {},
     "output_type": "display_data"
    },
    {
     "data": {
      "text/html": [
       "<pre style=\"white-space:pre;overflow-x:auto;line-height:normal;font-family:Menlo,'DejaVu Sans Mono',consolas,'Courier New',monospace\">Eval num_timesteps=100000, episode_reward=936.61 +/- 48.01\n",
       "</pre>\n"
      ],
      "text/plain": [
       "Eval num_timesteps=100000, episode_reward=936.61 +/- 48.01\n"
      ]
     },
     "metadata": {},
     "output_type": "display_data"
    },
    {
     "data": {
      "text/html": [
       "<pre style=\"white-space:pre;overflow-x:auto;line-height:normal;font-family:Menlo,'DejaVu Sans Mono',consolas,'Courier New',monospace\">Episode length: 100.00 +/- 0.00\n",
       "</pre>\n"
      ],
      "text/plain": [
       "Episode length: 100.00 +/- 0.00\n"
      ]
     },
     "metadata": {},
     "output_type": "display_data"
    },
    {
     "data": {
      "text/html": [
       "<pre style=\"white-space:pre;overflow-x:auto;line-height:normal;font-family:Menlo,'DejaVu Sans Mono',consolas,'Courier New',monospace\"></pre>\n"
      ],
      "text/plain": []
     },
     "metadata": {},
     "output_type": "display_data"
    },
    {
     "name": "stdout",
     "output_type": "stream",
     "text": [
      "Enhanced training completed!\n",
      "Total episodes: 1003\n",
      "Metrics saved to logs\\training_metrics.json\n"
     ]
    }
   ],
   "source": [
    "# Training loop\n",
    "print(\"Starting training...\")\n",
    "total_timesteps = 100000\n",
    "save_freq = 10000\n",
    "\n",
    "# Create callback for evaluation\n",
    "eval_env = TransitEnv(grid_size=8)\n",
    "eval_callback = EvalCallback(\n",
    "    eval_env, \n",
    "    best_model_save_path=\"./models/\",\n",
    "    log_path=\"./logs/\",\n",
    "    eval_freq=5000,\n",
    "    deterministic=True,\n",
    "    render=False\n",
    ")\n",
    "\n",
    "# Enhanced training with detailed logging\n",
    "from stable_baselines3.common.callbacks import BaseCallback\n",
    "import csv\n",
    "import os\n",
    "import json\n",
    "\n",
    "class MetricsCallback(BaseCallback):\n",
    "    def __init__(self, verbose=0):\n",
    "        super().__init__(verbose)\n",
    "        self.episode_rewards = []\n",
    "        self.episode_lengths = []\n",
    "        self.episode_demands = []\n",
    "        self.episode_frequencies = []\n",
    "        \n",
    "    def _on_step(self) -> bool:\n",
    "        # Log episode data when episode ends\n",
    "        if self.locals['dones'][0]:\n",
    "            info = self.locals['infos'][0]\n",
    "            if 'episode' in info:\n",
    "                self.episode_rewards.append(info['episode']['r'])\n",
    "                self.episode_lengths.append(info['episode']['l'])\n",
    "        return True\n",
    "\n",
    "print(\"Starting enhanced training...\")\n",
    "total_timesteps = 100000\n",
    "\n",
    "# Create directories (Windows-compatible)\n",
    "def create_directory(dir_path):\n",
    "    path = os.path.normpath(dir_path)\n",
    "    os.makedirs(path, exist_ok=True)\n",
    "    print(f\"Directory created/verified: {path}\")\n",
    "\n",
    "create_directory(\"./models/\")\n",
    "create_directory(\"./logs/\")\n",
    "create_directory(\"./animations/\")\n",
    "\n",
    "# Enhanced callbacks\n",
    "metrics_callback = MetricsCallback()\n",
    "eval_env = TransitEnv(grid_size=15, training_cities=training_cities)\n",
    "eval_callback = EvalCallback(\n",
    "    eval_env, \n",
    "    best_model_save_path=\"./models/\",\n",
    "    log_path=\"./logs/\",\n",
    "    eval_freq=5000,\n",
    "    deterministic=True,\n",
    "    render=False\n",
    ")\n",
    "\n",
    "# Train with enhanced logging\n",
    "try:\n",
    "    model.learn(\n",
    "        total_timesteps=total_timesteps,\n",
    "        callback=[eval_callback, metrics_callback],\n",
    "        progress_bar=True\n",
    "    )\n",
    "except RecursionError:\n",
    "    print(\"WARNING: RecursionError encountered during training\")\n",
    "    print(\"Continuing with training using simpler progress tracking...\")\n",
    "    # Try again with less verbose output\n",
    "    model.learn(\n",
    "        total_timesteps=total_timesteps,\n",
    "        callback=[eval_callback, metrics_callback],\n",
    "        progress_bar=False,\n",
    "        log_interval=1000\n",
    "    )\n",
    "\n",
    "# Save training metrics\n",
    "# Windows-compatible file path\n",
    "metrics_path = os.path.normpath('./logs/training_metrics.json')\n",
    "\n",
    "# Prepare metrics data\n",
    "metrics_data = {\n",
    "    \"episode_rewards\": metrics_callback.episode_rewards,\n",
    "    \"episode_lengths\": metrics_callback.episode_lengths,\n",
    "    \"mean_reward\": float(np.mean(metrics_callback.episode_rewards)),\n",
    "    \"std_reward\": float(np.std(metrics_callback.episode_rewards)),\n",
    "    \"total_timesteps\": total_timesteps\n",
    "}\n",
    "\n",
    "# Save to file\n",
    "with open(metrics_path, 'w') as f:\n",
    "    json.dump(metrics_data, f, indent=2)\n",
    "    \n",
    "print(\"Enhanced training completed!\")\n",
    "print(f\"Total episodes: {len(metrics_callback.episode_rewards)}\")\n",
    "print(f\"Metrics saved to {metrics_path}\")"
   ]
  },
  {
   "cell_type": "code",
   "execution_count": 14,
   "id": "82b4aaa6",
   "metadata": {},
   "outputs": [],
   "source": [
    "# Helper functions for model saving and analysis\n",
    "def save_model_safely(model, filename):\n",
    "    \"\"\"Save model with Windows-compatible path handling\"\"\"\n",
    "    try:\n",
    "        # Normalize path for Windows\n",
    "        path = os.path.normpath(filename)\n",
    "        print(f\"Saving model to {path}\")\n",
    "        model.save(path)\n",
    "        print(f\"Model saved successfully to {path}\")\n",
    "        return True\n",
    "    except Exception as e:\n",
    "        print(f\"Error saving model: {e}\")\n",
    "        # Try alternative path\n",
    "        try:\n",
    "            alt_path = f\"./{filename}\"\n",
    "            print(f\"Trying alternative path: {alt_path}\")\n",
    "            model.save(alt_path)\n",
    "            print(f\"Model saved to alternative path {alt_path}\")\n",
    "            return True\n",
    "        except Exception as e2:\n",
    "            print(f\"Failed to save model: {e2}\")\n",
    "            return False\n",
    "        \n",
    "def analyze_reward_components(env, action, current_demand=None):\n",
    "    \"\"\"Analyze individual reward components for debugging\"\"\"\n",
    "    if current_demand is None:\n",
    "        current_demand = env._get_current_demand()\n",
    "    \n",
    "    # Extract components from the reward calculation\n",
    "    total_frequency = np.sum(action)\n",
    "    hour = env.current_hour\n",
    "    \n",
    "    # Time-of-day factors\n",
    "    is_rush_hour = (7 <= hour <= 9) or (17 <= hour <= 19)\n",
    "    is_day = 6 <= hour <= 22 and not is_rush_hour\n",
    "    is_night = hour < 6 or hour > 22\n",
    "    \n",
    "    # Lower base reward\n",
    "    base_reward = 5.0\n",
    "    \n",
    "    # Calculate demand match with frequency ratio\n",
    "    freq_to_demand_ratio = total_frequency / max(current_demand, 0.1)\n",
    "    \n",
    "    # Progressive demand matching function\n",
    "    if freq_to_demand_ratio > 1.0:  # Overprovisioning\n",
    "        # Calculate overprovision with moderate penalties\n",
    "        excess_ratio = freq_to_demand_ratio - 1.0\n",
    "        \n",
    "        # Scale penalties by time period\n",
    "        if is_night:\n",
    "            # Higher but reasonable penalty at night\n",
    "            overprovision_penalty = 1.2 * (excess_ratio ** 1.0)\n",
    "        elif is_day:\n",
    "            # Moderate penalty during daytime\n",
    "            overprovision_penalty = 0.8 * (excess_ratio ** 0.9)\n",
    "        else:  # Rush hour\n",
    "            # Very mild penalty during rush hour\n",
    "            overprovision_penalty = 0.4 * (excess_ratio ** 0.7)\n",
    "            \n",
    "        # Cap the penalty\n",
    "        overprovision_penalty = min(overprovision_penalty, 2.0)\n",
    "        demand_match = 1.0 - overprovision_penalty\n",
    "    else:  # Underprovisioning\n",
    "        # Progressive underprovisioning penalties\n",
    "        shortfall = 1.0 - freq_to_demand_ratio\n",
    "        \n",
    "        if is_rush_hour:\n",
    "            # Strong progressive penalties during rush hour\n",
    "            if shortfall > 0.5:  # Severe underprovisioning (< 50% of demand)\n",
    "                under_penalty = 1.5 * shortfall + 1.0 * (shortfall - 0.5) ** 2\n",
    "            else:\n",
    "                under_penalty = 1.5 * shortfall\n",
    "        elif is_day:\n",
    "            # Moderate penalties during day\n",
    "            if shortfall > 0.7:  # Severe underprovisioning (< 30% of demand)\n",
    "                under_penalty = 1.2 * shortfall + 0.8 * (shortfall - 0.7) ** 2\n",
    "            else:\n",
    "                under_penalty = 1.2 * shortfall\n",
    "        else:  # Night\n",
    "            # Milder penalties at night\n",
    "            if shortfall > 0.8:  # Severe underprovisioning (< 20% of demand)\n",
    "                under_penalty = 0.9 * shortfall + 0.5 * (shortfall - 0.8) ** 2\n",
    "            else:\n",
    "                under_penalty = 0.9 * shortfall\n",
    "                \n",
    "        # Cap the penalty\n",
    "        under_penalty = min(under_penalty, 2.0)\n",
    "        demand_match = 1.0 - under_penalty\n",
    "    \n",
    "    # Ensure demand_match is not negative\n",
    "    demand_match = max(0.0, demand_match)\n",
    "    demand_reward = demand_match * 8.0  # Increased from 5.0\n",
    "    \n",
    "    # Coverage reward\n",
    "    coverage = min(3.0, len(env.city_data[\"stations\"]) * 0.08)\n",
    "    \n",
    "    # More moderate operating costs\n",
    "    if is_night:\n",
    "        cost_multiplier = 0.3  # Reduced from 0.4\n",
    "    elif is_day:\n",
    "        cost_multiplier = 0.2  # Reduced from 0.25\n",
    "    else:  # Rush hour\n",
    "        cost_multiplier = 0.1  # Reduced from 0.15\n",
    "        \n",
    "    cost = (total_frequency * cost_multiplier) + (np.sum(action ** 2) * 0.008)\n",
    "    \n",
    "    # Enhanced rush hour bonus\n",
    "    if is_rush_hour:\n",
    "        if freq_to_demand_ratio >= 0.9:\n",
    "            rush_bonus = 6.0  # Increased from 4.0\n",
    "        elif freq_to_demand_ratio >= 0.7:\n",
    "            rush_bonus = 3.0  # Increased from 2.0\n",
    "        elif freq_to_demand_ratio >= 0.5:\n",
    "            rush_bonus = 1.5  # New middle tier\n",
    "        else:\n",
    "            rush_bonus = 0.0  # No bonus for poor service\n",
    "    else:\n",
    "        rush_bonus = 0.0\n",
    "    \n",
    "    # Wait time penalty - reduced\n",
    "    wait_values = 1.0 / (action + 0.5)\n",
    "    wait_penalty = min(2.5, np.sum(wait_values) * 0.035)\n",
    "    \n",
    "    # Balance bonus\n",
    "    freq_std = np.std(action)\n",
    "    balance_bonus = max(0, 2.0 - freq_std * 0.2)\n",
    "    \n",
    "    # Minimum service requirement penalty\n",
    "    min_service_ratio = 0.3  # At least 30% of demand should be met\n",
    "    if freq_to_demand_ratio < min_service_ratio:\n",
    "        min_service_penalty = 3.0 * (min_service_ratio - freq_to_demand_ratio) ** 2\n",
    "    else:\n",
    "        min_service_penalty = 0.0\n",
    "    \n",
    "    # Total reward\n",
    "    total = base_reward + demand_reward + coverage + rush_bonus + balance_bonus - cost - wait_penalty - min_service_penalty\n",
    "    \n",
    "    # Print component breakdown\n",
    "    time_info = \"Rush Hour\" if is_rush_hour else \"Night\" if is_night else \"Day\"\n",
    "    print(f\"Time of day: {hour}:00 ({time_info})\")\n",
    "    print(f\"Current demand: {current_demand:.2f}\")\n",
    "    print(f\"Total frequency: {total_frequency:.2f}\")\n",
    "    print(f\"Frequency/demand ratio: {freq_to_demand_ratio:.2f}\")\n",
    "    print(f\"Base reward: {base_reward:.2f}\")\n",
    "    print(f\"Demand match: {demand_match:.2f} → reward: {demand_reward:.2f}\")\n",
    "    print(f\"Coverage reward: {coverage:.2f}\")\n",
    "    print(f\"Operating cost penalty: {-cost:.2f}\")\n",
    "    print(f\"Rush hour bonus: {rush_bonus:.2f}\")\n",
    "    print(f\"Wait time penalty: {-wait_penalty:.2f}\")\n",
    "    print(f\"Balance bonus: {balance_bonus:.2f}\")\n",
    "    \n",
    "    if min_service_penalty > 0:\n",
    "        print(f\"Minimum service penalty: {-min_service_penalty:.2f}\")\n",
    "    \n",
    "    print(f\"Total reward: {total:.2f}\")\n",
    "    \n",
    "    # Additional service level assessment\n",
    "    print(\"\\nService level assessment:\")\n",
    "    if freq_to_demand_ratio < min_service_ratio:\n",
    "        print(f\"CRITICAL: Service below minimum threshold ({min_service_ratio*100:.0f}%)!\")\n",
    "        print(f\"Current service level: {freq_to_demand_ratio*100:.1f}% of demand\")\n",
    "    elif freq_to_demand_ratio > 1.2:\n",
    "        excess = (freq_to_demand_ratio - 1.0) * 100\n",
    "        if excess > 50:\n",
    "            print(f\"WARNING: Significant overprovisioning by {excess:.1f}%\")\n",
    "        else:\n",
    "            print(f\"Note: Moderate overprovisioning by {excess:.1f}%\")\n",
    "    elif freq_to_demand_ratio < 0.8:\n",
    "        deficit = (1.0 - freq_to_demand_ratio) * 100\n",
    "        if deficit > 50:\n",
    "            print(f\"WARNING: Significant underprovisioning by {deficit:.1f}%\")\n",
    "        else:\n",
    "            print(f\"Note: Moderate underprovisioning by {deficit:.1f}%\")\n",
    "    else:\n",
    "        print(f\"Good service level: {freq_to_demand_ratio:.2f}x matches demand well\")\n",
    "    \n",
    "    return total"
   ]
  },
  {
   "cell_type": "code",
   "execution_count": 15,
   "id": "ee968c24",
   "metadata": {},
   "outputs": [
    {
     "name": "stdout",
     "output_type": "stream",
     "text": [
      "Saving model to transit_ppo_final\n",
      "Model saved successfully to transit_ppo_final\n",
      "Test episode reward: 971.3712224960327\n",
      "Average reward per step: 9.713712224960327\n"
     ]
    }
   ],
   "source": [
    "# Save final model with Windows compatibility\n",
    "save_model_safely(model, \"transit_ppo_final\")\n",
    "\n",
    "# Test trained model\n",
    "obs, info = env.reset()\n",
    "total_reward = 0\n",
    "\n",
    "for step in range(100):\n",
    "    action, _states = model.predict(obs, deterministic=True)\n",
    "    obs, reward, done, truncated, info = env.step(action)\n",
    "    total_reward += reward\n",
    "    \n",
    "    if done or truncated:\n",
    "        break\n",
    "\n",
    "print(f\"Test episode reward: {total_reward}\")\n",
    "print(f\"Average reward per step: {total_reward / (step + 1)}\")"
   ]
  },
  {
   "cell_type": "code",
   "execution_count": 16,
   "id": "e338943d",
   "metadata": {},
   "outputs": [
    {
     "name": "stdout",
     "output_type": "stream",
     "text": [
      "Episode 0: 843.10\n",
      "Episode 5: 929.68\n",
      "Episode 5: 929.68\n",
      "Episode 10: 1007.79\n",
      "Episode 10: 1007.79\n",
      "Episode 15: 926.87\n",
      "Episode 15: 926.87\n"
     ]
    },
    {
     "data": {
      "image/png": "[encoded data removed]",
      "text/plain": [
       "<Figure size 1000x600 with 2 Axes>"
      ]
     },
     "metadata": {},
     "output_type": "display_data"
    },
    {
     "name": "stdout",
     "output_type": "stream",
     "text": [
      "Average reward: 932.35 ± 52.21\n",
      "Min reward: 800.66\n",
      "Max reward: 1015.30\n"
     ]
    }
   ],
   "source": [
    "# Performance visualization\n",
    "import matplotlib.pyplot as plt\n",
    "import pandas as pd\n",
    "\n",
    "# Evaluate on multiple episodes\n",
    "num_eval_episodes = 20\n",
    "rewards = []\n",
    "\n",
    "for episode in range(num_eval_episodes):\n",
    "    obs, info = env.reset()\n",
    "    episode_reward = 0\n",
    "    \n",
    "    for step in range(100):\n",
    "        action, _states = model.predict(obs, deterministic=True)\n",
    "        obs, reward, done, truncated, info = env.step(action)\n",
    "        episode_reward += reward\n",
    "        \n",
    "        if done or truncated:\n",
    "            break\n",
    "    \n",
    "    rewards.append(episode_reward)\n",
    "    if episode % 5 == 0:\n",
    "        print(f\"Episode {episode}: {episode_reward:.2f}\")\n",
    "\n",
    "# Plot results\n",
    "plt.figure(figsize=(10, 6))\n",
    "plt.subplot(1, 2, 1)\n",
    "plt.plot(rewards)\n",
    "plt.title(\"Episode Rewards\")\n",
    "plt.xlabel(\"Episode\")\n",
    "plt.ylabel(\"Total Reward\")\n",
    "\n",
    "plt.subplot(1, 2, 2)\n",
    "plt.hist(rewards, bins=10)\n",
    "plt.title(\"Reward Distribution\")\n",
    "plt.xlabel(\"Total Reward\")\n",
    "plt.ylabel(\"Frequency\")\n",
    "\n",
    "plt.tight_layout()\n",
    "plt.show()\n",
    "\n",
    "print(f\"Average reward: {np.mean(rewards):.2f} ± {np.std(rewards):.2f}\")\n",
    "print(f\"Min reward: {np.min(rewards):.2f}\")\n",
    "print(f\"Max reward: {np.max(rewards):.2f}\")"
   ]
  },
  {
   "cell_type": "code",
   "execution_count": 17,
   "id": "2a203dac",
   "metadata": {},
   "outputs": [
    {
     "name": "stdout",
     "output_type": "stream",
     "text": [
      "Model Analysis:\n",
      "Policy network: ActorCriticPolicy(\n",
      "  (features_extractor): FlattenExtractor(\n",
      "    (flatten): Flatten(start_dim=1, end_dim=-1)\n",
      "  )\n",
      "  (pi_features_extractor): FlattenExtractor(\n",
      "    (flatten): Flatten(start_dim=1, end_dim=-1)\n",
      "  )\n",
      "  (vf_features_extractor): FlattenExtractor(\n",
      "    (flatten): Flatten(start_dim=1, end_dim=-1)\n",
      "  )\n",
      "  (mlp_extractor): MlpExtractor(\n",
      "    (policy_net): Sequential(\n",
      "      (0): Linear(in_features=934, out_features=128, bias=True)\n",
      "      (1): Tanh()\n",
      "      (2): Linear(in_features=128, out_features=128, bias=True)\n",
      "      (3): Tanh()\n",
      "    )\n",
      "    (value_net): Sequential(\n",
      "      (0): Linear(in_features=934, out_features=128, bias=True)\n",
      "      (1): Tanh()\n",
      "      (2): Linear(in_features=128, out_features=128, bias=True)\n",
      "      (3): Tanh()\n",
      "    )\n",
      "  )\n",
      "  (action_net): Linear(in_features=128, out_features=10, bias=True)\n",
      "  (value_net): Linear(in_features=128, out_features=1, bias=True)\n",
      ")\n",
      "Total parameters: 273813\n",
      "\n",
      "Sample action (route frequencies): [0.         1.1524779  1.2284257  0.00152277 0.         0.11577246\n",
      " 0.         0.         0.47360614 0.19192016]\n",
      "Action statistics:\n",
      "  Mean: 0.316\n",
      "  Std: 0.459\n",
      "  Min: 0.000\n",
      "  Max: 1.228\n"
     ]
    }
   ],
   "source": [
    "# Model analysis\n",
    "print(\"Model Analysis:\")\n",
    "print(f\"Policy network: {model.policy}\")\n",
    "print(f\"Total parameters: {sum(p.numel() for p in model.policy.parameters())}\")\n",
    "\n",
    "# Sample action analysis\n",
    "obs, info = env.reset()\n",
    "action, _states = model.predict(obs, deterministic=True)\n",
    "\n",
    "print(f\"\\nSample action (route frequencies): {action}\")\n",
    "print(f\"Action statistics:\")\n",
    "print(f\"  Mean: {np.mean(action):.3f}\")\n",
    "print(f\"  Std: {np.std(action):.3f}\")\n",
    "print(f\"  Min: {np.min(action):.3f}\")\n",
    "print(f\"  Max: {np.max(action):.3f}\")"
   ]
  },
  {
   "cell_type": "code",
   "execution_count": 18,
   "id": "beeff923",
   "metadata": {},
   "outputs": [
    {
     "name": "stdout",
     "output_type": "stream",
     "text": [
      "Performance Summary for Transit Optimization Model\n",
      "--------------------------------------------------\n",
      "Model Type: PPO (Proximal Policy Optimization)\n",
      "Network Architecture: ActorCriticPolicy(\n",
      "  (features_extractor): FlattenExtractor(\n",
      "    (flatten): Flatten(start_dim=1, end_dim=-1)\n",
      "  )\n",
      "  (pi_features_extractor): FlattenExtractor(\n",
      "    (flatten): Flatten(start_dim=1, end_dim=-1)\n",
      "  )\n",
      "  (vf_features_extractor): FlattenExtractor(\n",
      "    (flatten): Flatten(start_dim=1, end_dim=-1)\n",
      "  )\n",
      "  (mlp_extractor): MlpExtractor(\n",
      "    (policy_net): Sequential(\n",
      "      (0): Linear(in_features=934, out_features=128, bias=True)\n",
      "      (1): Tanh()\n",
      "      (2): Linear(in_features=128, out_features=128, bias=True)\n",
      "      (3): Tanh()\n",
      "    )\n",
      "    (value_net): Sequential(\n",
      "      (0): Linear(in_features=934, out_features=128, bias=True)\n",
      "      (1): Tanh()\n",
      "      (2): Linear(in_features=128, out_features=128, bias=True)\n",
      "      (3): Tanh()\n",
      "    )\n",
      "  )\n",
      "  (action_net): Linear(in_features=128, out_features=10, bias=True)\n",
      "  (value_net): Linear(in_features=128, out_features=1, bias=True)\n",
      ")\n",
      "Parameters: 273813\n",
      "--------------------------------------------------\n",
      "Test Performance:\n",
      "Single Episode Reward: 971.37\n",
      "Average Reward per Step: 9.71\n",
      "--------------------------------------------------\n",
      "Action Analysis:\n",
      "  Mean Frequency: 0.316\n",
      "  Std Deviation: 0.459\n",
      "  Min Frequency: 0.000\n",
      "  Max Frequency: 1.228\n",
      "--------------------------------------------------\n"
     ]
    },
    {
     "data": {
      "image/png": "[encoded data removed]",
      "text/plain": [
       "<Figure size 1000x600 with 2 Axes>"
      ]
     },
     "metadata": {},
     "output_type": "display_data"
    },
    {
     "name": "stdout",
     "output_type": "stream",
     "text": [
      "Current time: 4:00 hrs (Night)\n",
      "Current demand level: 1.07\n",
      "Total frequency: 3.16\n",
      "Frequency/demand ratio: 2.96\n",
      "WARNING: Significant overprovisioning by 195.9%\n",
      "Consider training longer to optimize costs\n",
      "Reward: 5.80\n"
     ]
    }
   ],
   "source": [
    "# Performance Summary\n",
    "print(\"Performance Summary for Transit Optimization Model\")\n",
    "print(\"-\" * 50)\n",
    "print(\"Model Type: PPO (Proximal Policy Optimization)\")\n",
    "print(f\"Network Architecture: {model.policy}\")\n",
    "print(f\"Parameters: {sum(p.numel() for p in model.policy.parameters())}\")\n",
    "print(\"-\" * 50)\n",
    "print(\"Test Performance:\")\n",
    "print(f\"Single Episode Reward: {total_reward:.2f}\")\n",
    "print(f\"Average Reward per Step: {total_reward / (step + 1):.2f}\")\n",
    "print(\"-\" * 50)\n",
    "print(\"Action Analysis:\")\n",
    "print(f\"  Mean Frequency: {np.mean(action):.3f}\")\n",
    "print(f\"  Std Deviation: {np.std(action):.3f}\")\n",
    "print(f\"  Min Frequency: {np.min(action):.3f}\")\n",
    "print(f\"  Max Frequency: {np.max(action):.3f}\")\n",
    "print(\"-\" * 50)\n",
    "\n",
    "# Create a visual summary of model actions\n",
    "plt.figure(figsize=(10, 6))\n",
    "\n",
    "# Plot the action distribution (route frequencies)\n",
    "plt.subplot(1, 2, 1)\n",
    "plt.bar(range(len(action)), action, color='teal', alpha=0.7)\n",
    "plt.title('Route Frequency Distribution')\n",
    "plt.xlabel('Route Index')\n",
    "plt.ylabel('Frequency')\n",
    "plt.grid(alpha=0.3)\n",
    "\n",
    "# Plot reward component breakdown with updated reward function logic\n",
    "plt.subplot(1, 2, 2)\n",
    "current_demand = env._get_current_demand()\n",
    "total_frequency = np.sum(action)\n",
    "\n",
    "# Time-of-day factors\n",
    "hour = env.current_hour\n",
    "is_rush_hour = (7 <= hour <= 9) or (17 <= hour <= 19)\n",
    "is_day = 6 <= hour <= 22 and not is_rush_hour\n",
    "is_night = hour < 6 or hour > 22\n",
    "\n",
    "# Calculate demand match with updated logic\n",
    "freq_to_demand_ratio = total_frequency / max(current_demand, 0.1)\n",
    "\n",
    "components = {'Base': 5.0}  # Reduced from 10.0\n",
    "\n",
    "# Progressive demand matching with updated logic\n",
    "if freq_to_demand_ratio > 1.0:  # Overprovisioning\n",
    "    excess_ratio = freq_to_demand_ratio - 1.0\n",
    "    \n",
    "    if is_night:\n",
    "        overprovision_penalty = 1.2 * (excess_ratio ** 1.0)\n",
    "    elif is_day:\n",
    "        overprovision_penalty = 0.8 * (excess_ratio ** 0.9)\n",
    "    else:  # Rush hour\n",
    "        overprovision_penalty = 0.4 * (excess_ratio ** 0.7)\n",
    "        \n",
    "    overprovision_penalty = min(overprovision_penalty, 2.0)\n",
    "    demand_match = 1.0 - overprovision_penalty\n",
    "else:  # Underprovisioning\n",
    "    shortfall = 1.0 - freq_to_demand_ratio\n",
    "    \n",
    "    if is_rush_hour:\n",
    "        if shortfall > 0.5:\n",
    "            under_penalty = 1.5 * shortfall + 1.0 * (shortfall - 0.5) ** 2\n",
    "        else:\n",
    "            under_penalty = 1.5 * shortfall\n",
    "    elif is_day:\n",
    "        if shortfall > 0.7:\n",
    "            under_penalty = 1.2 * shortfall + 0.8 * (shortfall - 0.7) ** 2\n",
    "        else:\n",
    "            under_penalty = 1.2 * shortfall\n",
    "    else:  # Night\n",
    "        if shortfall > 0.8:\n",
    "            under_penalty = 0.9 * shortfall + 0.5 * (shortfall - 0.8) ** 2\n",
    "        else:\n",
    "            under_penalty = 0.9 * shortfall\n",
    "            \n",
    "    under_penalty = min(under_penalty, 2.0)\n",
    "    demand_match = 1.0 - under_penalty\n",
    "        \n",
    "demand_match = max(0.0, demand_match)\n",
    "components['Demand Match'] = demand_match * 8.0  # Increased from 5.0\n",
    "components['Coverage'] = min(3.0, len(env.city_data[\"stations\"]) * 0.08)\n",
    "\n",
    "# Updated cost multipliers\n",
    "if is_night:\n",
    "    cost_multiplier = 0.3  # Reduced\n",
    "elif is_day:\n",
    "    cost_multiplier = 0.2  # Reduced\n",
    "else:  # Rush hour\n",
    "    cost_multiplier = 0.1  # Reduced\n",
    "    \n",
    "cost = (total_frequency * cost_multiplier) + (np.sum(action ** 2) * 0.008)\n",
    "components['Cost'] = -cost\n",
    "\n",
    "# Enhanced rush hour bonus with three tiers\n",
    "if is_rush_hour:\n",
    "    if freq_to_demand_ratio >= 0.9:\n",
    "        components['Rush Bonus'] = 6.0  # Increased\n",
    "    elif freq_to_demand_ratio >= 0.7:\n",
    "        components['Rush Bonus'] = 3.0  # Increased\n",
    "    elif freq_to_demand_ratio >= 0.5:\n",
    "        components['Rush Bonus'] = 1.5  # New middle tier\n",
    "    else:\n",
    "        components['Rush Bonus'] = 0.0\n",
    "else:\n",
    "    components['Rush Bonus'] = 0.0\n",
    "\n",
    "# Reduced wait penalty\n",
    "wait_values = 1.0 / (action + 0.5)\n",
    "components['Wait Penalty'] = -min(2.5, np.sum(wait_values) * 0.035)\n",
    "\n",
    "# Balance bonus with updated parameter\n",
    "freq_std = np.std(action)\n",
    "components['Balance Bonus'] = max(0, 2.0 - freq_std * 0.2)\n",
    "\n",
    "# Add minimum service penalty if applicable\n",
    "min_service_ratio = 0.3\n",
    "if freq_to_demand_ratio < min_service_ratio:\n",
    "    min_service_penalty = 3.0 * (min_service_ratio - freq_to_demand_ratio) ** 2\n",
    "    components['Min Service Penalty'] = -min_service_penalty\n",
    "\n",
    "# Plot the components\n",
    "plt.bar(range(len(components)), list(components.values()), color='royalblue', alpha=0.7)\n",
    "plt.axhline(y=0, color='r', linestyle='-', alpha=0.3)\n",
    "plt.xticks(range(len(components)), list(components.keys()), rotation=45, ha='right')\n",
    "plt.title('Reward Components')\n",
    "plt.ylabel('Value')\n",
    "plt.grid(alpha=0.3)\n",
    "\n",
    "plt.tight_layout()\n",
    "plt.show()\n",
    "\n",
    "# Print time and demand context\n",
    "time_info = \"Rush Hour\" if is_rush_hour else \"Night\" if is_night else \"Day\"\n",
    "print(f\"Current time: {env.current_hour}:00 hrs ({time_info})\")\n",
    "print(f\"Current demand level: {current_demand:.2f}\")\n",
    "print(f\"Total frequency: {total_frequency:.2f}\")\n",
    "print(f\"Frequency/demand ratio: {freq_to_demand_ratio:.2f}\")\n",
    "\n",
    "# Print service level assessment with enhanced warnings\n",
    "if freq_to_demand_ratio < min_service_ratio:\n",
    "    print(f\"CRITICAL: Service below minimum threshold ({min_service_ratio*100:.0f}%)!\")\n",
    "    print(f\"Current service level: {freq_to_demand_ratio*100:.1f}% of demand\")\n",
    "    print(f\"Reward includes minimum service penalty: {-min_service_penalty:.2f}\")\n",
    "elif freq_to_demand_ratio > 1.2:\n",
    "    excess = (freq_to_demand_ratio - 1.0) * 100\n",
    "    if excess > 50:\n",
    "        print(f\"WARNING: Significant overprovisioning by {excess:.1f}%\")\n",
    "        print(f\"Consider training longer to optimize costs\")\n",
    "    else:\n",
    "        print(f\"Note: Moderate overprovisioning by {excess:.1f}%\")\n",
    "elif freq_to_demand_ratio < 0.8:\n",
    "    deficit = (1.0 - freq_to_demand_ratio) * 100\n",
    "    if deficit > 50:\n",
    "        print(f\"WARNING: Significant underprovisioning by {deficit:.1f}%\")\n",
    "        print(f\"Passenger service quality will be poor - longer wait times\")\n",
    "    else:\n",
    "        print(f\"Note: Moderate underprovisioning by {deficit:.1f}%\")\n",
    "else:\n",
    "    print(f\"Good service level: {freq_to_demand_ratio:.2f}x matches demand well\")\n",
    "\n",
    "print(f\"Reward: {env._calculate_reward(action, current_demand):.2f}\")"
   ]
  },
  {
   "cell_type": "code",
   "execution_count": 19,
   "id": "f1667fe7",
   "metadata": {},
   "outputs": [
    {
     "name": "stdout",
     "output_type": "stream",
     "text": [
      "Running on Windows, skipping Colab download\n",
      "Creating zip archive of model files...\n",
      "Model files zipped to c:\\Users\\krish\\OneDrive\\Attachments\\Documents\\GitHub\\Raahi-v2\\trained_models.zip\n",
      "Model files zipped to c:\\Users\\krish\\OneDrive\\Attachments\\Documents\\GitHub\\Raahi-v2\\trained_models.zip\n"
     ]
    }
   ],
   "source": [
    "# Download model files (compatible with Windows and Colab)\n",
    "import platform\n",
    "\n",
    "# Check if running in Colab\n",
    "is_colab = 'google.colab' in str(get_ipython())\n",
    "\n",
    "if is_colab:\n",
    "    print(\"Running on Colab, preparing download...\")\n",
    "    from google.colab import files\n",
    "    \n",
    "    # Use zip command in Colab\n",
    "    !zip -r trained_models.zip transit_ppo_final.zip models/ logs/\n",
    "    \n",
    "    # Download\n",
    "    files.download('trained_models.zip')\n",
    "    print(\"Model files downloaded!\")\n",
    "else:\n",
    "    print(f\"Running on {platform.system()}, skipping Colab download\")\n",
    "    \n",
    "    if platform.system() == 'Windows':\n",
    "        import zipfile\n",
    "        \n",
    "        # Windows-friendly zip creation\n",
    "        try:\n",
    "            # Create a zip file \n",
    "            print(\"Creating zip archive of model files...\")\n",
    "            with zipfile.ZipFile('trained_models.zip', 'w', zipfile.ZIP_DEFLATED) as zipf:\n",
    "                # Add model file\n",
    "                if os.path.exists('transit_ppo_final.zip'):\n",
    "                    zipf.write('transit_ppo_final.zip')\n",
    "                \n",
    "                # Add directories\n",
    "                for dir_path in ['models', 'logs']:\n",
    "                    if os.path.exists(dir_path):\n",
    "                        for root, _, files in os.walk(dir_path):\n",
    "                            for file in files:\n",
    "                                file_path = os.path.join(root, file)\n",
    "                                zipf.write(file_path)\n",
    "                \n",
    "            print(f\"Model files zipped to {os.path.abspath('trained_models.zip')}\")\n",
    "        except Exception as e:\n",
    "            print(f\"Error creating zip: {e}\")"
   ]
  },
  {
   "cell_type": "markdown",
   "id": "8d6cc044",
   "metadata": {},
   "source": [
    "## Training Complete!\n",
    "\n",
    "The RL agent has been trained on synthetic transit data. Key results:\n",
    "\n",
    "- **Environment**: 15x15 grid cities with multiple transit modes\n",
    "- **Algorithm**: PPO (Proximal Policy Optimization)\n",
    "- **Training**: 100K timesteps with GPU acceleration\n",
    "- **Objective**: Optimize route frequencies for efficiency\n",
    "\n",
    "The trained model can now make decisions about transit route scheduling to maximize efficiency while minimizing costs."
   ]
  },
  {
   "cell_type": "code",
   "execution_count": 20,
   "id": "777df515",
   "metadata": {},
   "outputs": [
    {
     "name": "stdout",
     "output_type": "stream",
     "text": [
      "Analyzing the balanced reward function...\n",
      "\n",
      "Time            Strategy             Demand   Frequency  Freq/Demand Reward    \n",
      "---------------------------------------------------------------------------\n",
      "Night (3AM)     Low Frequency        2.85     10.00      3.51       4.49      \n",
      "Night (3AM)     Medium Frequency     2.85     50.00      17.55      -9.26     \n",
      "Night (3AM)     High Frequency       2.85     100.00     35.10      -30.23    \n",
      "Night (3AM)     Rush Hour Focused    2.85     51.00      17.90      -10.41    \n",
      "Night (3AM)     Main Routes Only     2.85     39.00      13.69      -7.36     \n",
      "Night (3AM)     Balanced             2.85     46.00      16.14      -8.19     \n",
      "Night (3AM)     Demand Matched       2.85     2.56       0.90       13.84     \n",
      "Morning Rush (8AM) Low Frequency        10.00    10.00      1.00       20.49     \n",
      "Morning Rush (8AM) Medium Frequency     10.00    50.00      5.00       6.74      \n",
      "Morning Rush (8AM) High Frequency       10.00    100.00     10.00      -4.23     \n",
      "Morning Rush (8AM) Rush Hour Focused    10.00    51.00      5.10       5.79      \n",
      "Morning Rush (8AM) Main Routes Only     10.00    39.00      3.90       7.70      \n",
      "Morning Rush (8AM) Balanced             10.00    46.00      4.60       7.17      \n",
      "Morning Rush (8AM) Demand Matched       10.00    9.00       0.90       19.39     \n",
      "Midday (12PM)   Low Frequency        9.56     10.00      1.05       13.08     \n",
      "Midday (12PM)   Medium Frequency     9.56     50.00      5.23       -4.26     \n",
      "Midday (12PM)   High Frequency       9.56     100.00     10.46      -20.23    \n",
      "Midday (12PM)   Rush Hour Focused    9.56     51.00      5.34       -5.31     \n",
      "Midday (12PM)   Main Routes Only     9.56     39.00      4.08       -3.46     \n",
      "Midday (12PM)   Balanced             9.56     46.00      4.81       -3.59     \n",
      "Midday (12PM)   Demand Matched       9.56     8.60       0.90       12.80     \n",
      "Evening Rush (6PM) Low Frequency        10.00    10.00      1.00       20.49     \n",
      "Evening Rush (6PM) Medium Frequency     10.00    50.00      5.00       6.74      \n",
      "Evening Rush (6PM) High Frequency       10.00    100.00     10.00      -4.23     \n",
      "Evening Rush (6PM) Rush Hour Focused    10.00    51.00      5.10       5.79      \n",
      "Evening Rush (6PM) Main Routes Only     10.00    39.00      3.90       7.70      \n",
      "Evening Rush (6PM) Balanced             10.00    46.00      4.60       7.17      \n",
      "Evening Rush (6PM) Demand Matched       10.00    9.00       0.90       19.39     \n"
     ]
    },
    {
     "data": {
      "image/png": "[encoded data removed]",
      "text/plain": [
       "<Figure size 1500x1000 with 4 Axes>"
      ]
     },
     "metadata": {},
     "output_type": "display_data"
    },
    {
     "name": "stdout",
     "output_type": "stream",
     "text": [
      "\n",
      "Detailed breakdown of reward components across time periods:\n",
      "\n",
      "============ Time: Night (3AM), Demand: 2.94 ============\n",
      "\n",
      "--- Demand-Matched Strategy (90% of demand) ---\n",
      "Time of day: 3:00 (Night)\n",
      "Current demand: 2.94\n",
      "Total frequency: 2.65\n",
      "Frequency/demand ratio: 0.90\n",
      "Base reward: 5.00\n",
      "Demand match: 0.91 → reward: 7.28\n",
      "Coverage reward: 0.80\n",
      "Operating cost penalty: -0.80\n",
      "Rush hour bonus: 0.00\n",
      "Wait time penalty: -0.46\n",
      "Balance bonus: 2.00\n",
      "Total reward: 13.82\n",
      "\n",
      "Service level assessment:\n",
      "Good service level: 0.90x matches demand well\n",
      "\n",
      "--- Balanced Fixed Strategy ---\n",
      "Time of day: 3:00 (Night)\n",
      "Current demand: 2.94\n",
      "Total frequency: 46.00\n",
      "Frequency/demand ratio: 15.65\n",
      "Base reward: 5.00\n",
      "Demand match: 0.00 → reward: 0.00\n",
      "Coverage reward: 0.80\n",
      "Operating cost penalty: -15.64\n",
      "Rush hour bonus: 0.00\n",
      "Wait time penalty: -0.07\n",
      "Balance bonus: 1.73\n",
      "Total reward: -8.19\n",
      "\n",
      "Service level assessment:\n",
      "WARNING: Significant overprovisioning by 1465.0%\n",
      "\n",
      "--- High Frequency Strategy ---\n",
      "Time of day: 3:00 (Night)\n",
      "Current demand: 2.94\n",
      "Total frequency: 100.00\n",
      "Frequency/demand ratio: 34.02\n",
      "Base reward: 5.00\n",
      "Demand match: 0.00 → reward: 0.00\n",
      "Coverage reward: 0.80\n",
      "Operating cost penalty: -38.00\n",
      "Rush hour bonus: 0.00\n",
      "Wait time penalty: -0.03\n",
      "Balance bonus: 2.00\n",
      "Total reward: -30.23\n",
      "\n",
      "Service level assessment:\n",
      "WARNING: Significant overprovisioning by 3302.2%\n",
      "\n",
      "Best strategy at Night (3AM): Demand-Matched\n",
      "Demand-matched outperforms balanced by 22.01 points\n",
      "Demand-matched outperforms high frequency by 44.06 points\n",
      "The difference is significant - strongly prefer Demand-Matched\n",
      "\n",
      "============ Time: Morning Rush (8AM), Demand: 10.00 ============\n",
      "\n",
      "--- Demand-Matched Strategy (90% of demand) ---\n",
      "Time of day: 8:00 (Rush Hour)\n",
      "Current demand: 10.00\n",
      "Total frequency: 9.00\n",
      "Frequency/demand ratio: 0.90\n",
      "Base reward: 5.00\n",
      "Demand match: 0.85 → reward: 6.80\n",
      "Coverage reward: 0.80\n",
      "Operating cost penalty: -0.96\n",
      "Rush hour bonus: 6.00\n",
      "Wait time penalty: -0.25\n",
      "Balance bonus: 2.00\n",
      "Total reward: 19.39\n",
      "\n",
      "Service level assessment:\n",
      "Good service level: 0.90x matches demand well\n",
      "\n",
      "--- Balanced Fixed Strategy ---\n",
      "Time of day: 8:00 (Rush Hour)\n",
      "Current demand: 10.00\n",
      "Total frequency: 46.00\n",
      "Frequency/demand ratio: 4.60\n",
      "Base reward: 5.00\n",
      "Demand match: 0.02 → reward: 0.16\n",
      "Coverage reward: 0.80\n",
      "Operating cost penalty: -6.44\n",
      "Rush hour bonus: 6.00\n",
      "Wait time penalty: -0.07\n",
      "Balance bonus: 1.73\n",
      "Total reward: 7.17\n",
      "\n",
      "Service level assessment:\n",
      "WARNING: Significant overprovisioning by 360.0%\n",
      "\n",
      "--- High Frequency Strategy ---\n",
      "Time of day: 8:00 (Rush Hour)\n",
      "Current demand: 10.00\n",
      "Total frequency: 100.00\n",
      "Frequency/demand ratio: 10.00\n",
      "Base reward: 5.00\n",
      "Demand match: 0.00 → reward: 0.00\n",
      "Coverage reward: 0.80\n",
      "Operating cost penalty: -18.00\n",
      "Rush hour bonus: 6.00\n",
      "Wait time penalty: -0.03\n",
      "Balance bonus: 2.00\n",
      "Total reward: -4.23\n",
      "\n",
      "Service level assessment:\n",
      "WARNING: Significant overprovisioning by 900.0%\n",
      "\n",
      "Best strategy at Morning Rush (8AM): Demand-Matched\n",
      "Demand-matched outperforms balanced by 12.21 points\n",
      "Demand-matched outperforms high frequency by 23.62 points\n",
      "The difference is significant - strongly prefer Demand-Matched\n",
      "\n",
      "============ Time: Midday (12PM), Demand: 9.37 ============\n",
      "\n",
      "--- Demand-Matched Strategy (90% of demand) ---\n",
      "Time of day: 12:00 (Day)\n",
      "Current demand: 9.37\n",
      "Total frequency: 8.43\n",
      "Frequency/demand ratio: 0.90\n",
      "Base reward: 5.00\n",
      "Demand match: 0.88 → reward: 7.04\n",
      "Coverage reward: 0.80\n",
      "Operating cost penalty: -1.74\n",
      "Rush hour bonus: 0.00\n",
      "Wait time penalty: -0.26\n",
      "Balance bonus: 2.00\n",
      "Total reward: 12.84\n",
      "\n",
      "Service level assessment:\n",
      "Good service level: 0.90x matches demand well\n",
      "\n",
      "--- Balanced Fixed Strategy ---\n",
      "Time of day: 12:00 (Day)\n",
      "Current demand: 9.37\n",
      "Total frequency: 46.00\n",
      "Frequency/demand ratio: 4.91\n",
      "Base reward: 5.00\n",
      "Demand match: 0.00 → reward: 0.00\n",
      "Coverage reward: 0.80\n",
      "Operating cost penalty: -11.04\n",
      "Rush hour bonus: 0.00\n",
      "Wait time penalty: -0.07\n",
      "Balance bonus: 1.73\n",
      "Total reward: -3.59\n",
      "\n",
      "Service level assessment:\n",
      "WARNING: Significant overprovisioning by 390.9%\n",
      "\n",
      "--- High Frequency Strategy ---\n",
      "Time of day: 12:00 (Day)\n",
      "Current demand: 9.37\n",
      "Total frequency: 100.00\n",
      "Frequency/demand ratio: 10.67\n",
      "Base reward: 5.00\n",
      "Demand match: 0.00 → reward: 0.00\n",
      "Coverage reward: 0.80\n",
      "Operating cost penalty: -28.00\n",
      "Rush hour bonus: 0.00\n",
      "Wait time penalty: -0.03\n",
      "Balance bonus: 2.00\n",
      "Total reward: -20.23\n",
      "\n",
      "Service level assessment:\n",
      "WARNING: Significant overprovisioning by 967.2%\n",
      "\n",
      "Best strategy at Midday (12PM): Demand-Matched\n",
      "Demand-matched outperforms balanced by 16.42 points\n",
      "Demand-matched outperforms high frequency by 33.07 points\n",
      "The difference is significant - strongly prefer Demand-Matched\n",
      "\n",
      "============ Time: Evening Rush (6PM), Demand: 10.00 ============\n",
      "\n",
      "--- Demand-Matched Strategy (90% of demand) ---\n",
      "Time of day: 18:00 (Rush Hour)\n",
      "Current demand: 10.00\n",
      "Total frequency: 9.00\n",
      "Frequency/demand ratio: 0.90\n",
      "Base reward: 5.00\n",
      "Demand match: 0.85 → reward: 6.80\n",
      "Coverage reward: 0.80\n",
      "Operating cost penalty: -0.96\n",
      "Rush hour bonus: 6.00\n",
      "Wait time penalty: -0.25\n",
      "Balance bonus: 2.00\n",
      "Total reward: 19.39\n",
      "\n",
      "Service level assessment:\n",
      "Good service level: 0.90x matches demand well\n",
      "\n",
      "--- Balanced Fixed Strategy ---\n",
      "Time of day: 18:00 (Rush Hour)\n",
      "Current demand: 10.00\n",
      "Total frequency: 46.00\n",
      "Frequency/demand ratio: 4.60\n",
      "Base reward: 5.00\n",
      "Demand match: 0.02 → reward: 0.16\n",
      "Coverage reward: 0.80\n",
      "Operating cost penalty: -6.44\n",
      "Rush hour bonus: 6.00\n",
      "Wait time penalty: -0.07\n",
      "Balance bonus: 1.73\n",
      "Total reward: 7.17\n",
      "\n",
      "Service level assessment:\n",
      "WARNING: Significant overprovisioning by 360.0%\n",
      "\n",
      "--- High Frequency Strategy ---\n",
      "Time of day: 18:00 (Rush Hour)\n",
      "Current demand: 10.00\n",
      "Total frequency: 100.00\n",
      "Frequency/demand ratio: 10.00\n",
      "Base reward: 5.00\n",
      "Demand match: 0.00 → reward: 0.00\n",
      "Coverage reward: 0.80\n",
      "Operating cost penalty: -18.00\n",
      "Rush hour bonus: 6.00\n",
      "Wait time penalty: -0.03\n",
      "Balance bonus: 2.00\n",
      "Total reward: -4.23\n",
      "\n",
      "Service level assessment:\n",
      "WARNING: Significant overprovisioning by 900.0%\n",
      "\n",
      "Best strategy at Evening Rush (6PM): Demand-Matched\n",
      "Demand-matched outperforms balanced by 12.21 points\n",
      "Demand-matched outperforms high frequency by 23.62 points\n",
      "The difference is significant - strongly prefer Demand-Matched\n",
      "\n",
      "==================================================\n",
      "FINAL ANALYSIS OF BALANCED REWARD FUNCTION\n",
      "==================================================\n",
      "The balanced reward function now provides more reasonable incentives:\n",
      "1. More moderate penalties for overprovisioning (max 2.5 vs previous 5.0)\n",
      "2. More balanced penalties for underprovisioning (especially during rush hour)\n",
      "3. Reasonable operating costs with time-sensitivity (0.4 at night vs 0.15 during rush)\n",
      "4. Tiered rush hour bonuses to encourage appropriate service levels\n",
      "\n",
      "Key improvements over previous version:\n",
      "- Avoids extreme negative rewards that made learning difficult\n",
      "- Creates a smoother reward landscape with fewer sharp cliffs\n",
      "- Better balances the tradeoff between service quality and efficiency\n",
      "- Encourages matching service to demand rather than extreme min/max strategies\n",
      "\n",
      "This should result in:\n",
      "- More realistic service allocation across different times of day\n",
      "- Better matching of service to actual demand patterns\n",
      "- Appropriate balance between cost efficiency and service quality\n",
      "- Improved passenger experience with reasonable waiting times\n"
     ]
    }
   ],
   "source": [
    "# Analyze the improved reward function with different strategies\n",
    "print(\"Analyzing the balanced reward function...\")\n",
    "\n",
    "# Create a test environment\n",
    "test_env = TransitEnv(grid_size=15, training_cities=training_cities[:1])\n",
    "obs, info = test_env.reset()\n",
    "\n",
    "# Set specific hours for testing\n",
    "test_hours = [3, 8, 12, 18]  # Night, morning rush, day, evening rush\n",
    "time_labels = {3: \"Night (3AM)\", 8: \"Morning Rush (8AM)\", \n",
    "              12: \"Midday (12PM)\", 18: \"Evening Rush (6PM)\"}\n",
    "\n",
    "# Define different frequency strategies to test\n",
    "test_strategies = [\n",
    "    (\"Low Frequency\", np.array([1]*10)),\n",
    "    (\"Medium Frequency\", np.array([5]*10)),\n",
    "    (\"High Frequency\", np.array([10]*10)),\n",
    "    (\"Rush Hour Focused\", np.array([8, 8, 8, 5, 5, 5, 3, 3, 3, 3])),\n",
    "    (\"Main Routes Only\", np.array([10, 10, 10, 2, 2, 1, 1, 1, 1, 1])),\n",
    "    (\"Balanced\", np.array([7, 6, 6, 5, 5, 4, 4, 3, 3, 3])),\n",
    "    (\"Demand Matched\", None)  # Will be dynamically set based on demand\n",
    "]\n",
    "\n",
    "# Store results for analysis\n",
    "results = []\n",
    "\n",
    "print(f\"\\n{'Time':<15} {'Strategy':<20} {'Demand':<8} {'Frequency':<10} {'Freq/Demand':<10} {'Reward':<10}\")\n",
    "print(\"-\" * 75)\n",
    "\n",
    "for hour in test_hours:\n",
    "    # Set the time of day\n",
    "    test_env.current_hour = hour\n",
    "    current_demand = test_env._get_current_demand()\n",
    "    \n",
    "    # Create a demand-matched strategy (0.9x demand for each route)\n",
    "    demand_matched_strategy = np.ones(10) * (current_demand * 0.9 / 10)\n",
    "    \n",
    "    for i, (name, action) in enumerate(test_strategies):\n",
    "        # Use the demand-matched strategy if specified\n",
    "        if name == \"Demand Matched\":\n",
    "            action = demand_matched_strategy\n",
    "            \n",
    "        # Calculate reward using the improved reward function\n",
    "        reward = test_env._calculate_reward(action, current_demand)\n",
    "        total_freq = np.sum(action)\n",
    "        freq_demand_ratio = total_freq / max(current_demand, 0.1)\n",
    "        \n",
    "        print(f\"{time_labels[hour]:<15} {name:<20} {current_demand:<8.2f} {total_freq:<10.2f} {freq_demand_ratio:<10.2f} {reward:<10.2f}\")\n",
    "        \n",
    "        # Store results for visualization\n",
    "        results.append({\n",
    "            'hour': hour,\n",
    "            'hour_label': time_labels[hour],\n",
    "            'strategy': name,\n",
    "            'demand': current_demand,\n",
    "            'frequency': total_freq,\n",
    "            'freq_demand_ratio': freq_demand_ratio,\n",
    "            'reward': reward\n",
    "        })\n",
    "\n",
    "# Create a DataFrame for easier visualization\n",
    "import pandas as pd\n",
    "df = pd.DataFrame(results)\n",
    "\n",
    "# Plot the results\n",
    "plt.figure(figsize=(15, 10))\n",
    "\n",
    "# Plot by time of day\n",
    "for i, hour in enumerate(test_hours):\n",
    "    plt.subplot(2, 2, i+1)\n",
    "    \n",
    "    hour_data = df[df['hour'] == hour]\n",
    "    strategies = hour_data['strategy'].values\n",
    "    rewards = hour_data['reward'].values\n",
    "    frequencies = hour_data['frequency'].values\n",
    "    freq_demand_ratios = hour_data['freq_demand_ratio'].values\n",
    "    \n",
    "    # Primary axis for rewards\n",
    "    x = np.arange(len(strategies))\n",
    "    bars = plt.bar(x, rewards, width=0.6, alpha=0.7, \n",
    "                  color=['skyblue' if r > 0 else 'salmon' for r in rewards])\n",
    "    \n",
    "    # Add horizontal line at zero\n",
    "    plt.axhline(y=0, color='gray', linestyle='-', alpha=0.3)\n",
    "    \n",
    "    # Add demand line\n",
    "    plt.axhline(y=hour_data['demand'].iloc[0], color='red', linestyle='--', alpha=0.7, \n",
    "               label=f\"Demand: {hour_data['demand'].iloc[0]:.2f}\")\n",
    "    \n",
    "    # Labels and formatting\n",
    "    plt.title(f\"Rewards at {time_labels[hour]}\")\n",
    "    plt.xticks(x, strategies, rotation=45, ha='right')\n",
    "    plt.ylabel('Reward')\n",
    "    \n",
    "    # Add frequency/demand ratio values as text on bars\n",
    "    for j, v in enumerate(rewards):\n",
    "        y_pos = v + 0.5 if v > 0 else v - 3.0\n",
    "        color = 'green' if 0.8 <= freq_demand_ratios[j] <= 1.2 else 'darkred'\n",
    "        plt.text(j, y_pos, f\"{frequencies[j]:.1f} ({freq_demand_ratios[j]:.1f}x)\", \n",
    "                ha='center', va='bottom', fontweight='bold', color=color)\n",
    "    \n",
    "    if i == 0:  # Only show legend on first subplot\n",
    "        plt.legend()\n",
    "\n",
    "plt.tight_layout()\n",
    "plt.show()\n",
    "\n",
    "# Show detailed breakdown of reward components for various strategies\n",
    "print(\"\\nDetailed breakdown of reward components across time periods:\")\n",
    "\n",
    "# Compare balanced strategy vs. demand-matched strategy vs high frequency\n",
    "for hour in [3, 8, 12, 18]:  # Night, Morning Rush, Day, Evening Rush\n",
    "    test_env.current_hour = hour\n",
    "    current_demand = test_env._get_current_demand()\n",
    "    \n",
    "    print(f\"\\n============ Time: {time_labels[hour]}, Demand: {current_demand:.2f} ============\")\n",
    "    \n",
    "    # Create strategies for comparison\n",
    "    balanced_strategy = np.array([7, 6, 6, 5, 5, 4, 4, 3, 3, 3])\n",
    "    demand_matched = np.ones(10) * (current_demand * 0.9 / 10)\n",
    "    high_freq_strategy = np.array([10]*10)\n",
    "    \n",
    "    print(\"\\n--- Demand-Matched Strategy (90% of demand) ---\")\n",
    "    demand_matched_reward = analyze_reward_components(test_env, demand_matched, current_demand)\n",
    "    \n",
    "    print(\"\\n--- Balanced Fixed Strategy ---\")\n",
    "    balanced_reward = analyze_reward_components(test_env, balanced_strategy, current_demand)\n",
    "    \n",
    "    print(\"\\n--- High Frequency Strategy ---\")\n",
    "    high_freq_reward = analyze_reward_components(test_env, high_freq_strategy, current_demand)\n",
    "    \n",
    "    # Print comparison\n",
    "    best_strategy = \"Demand-Matched\" if demand_matched_reward > balanced_reward and demand_matched_reward > high_freq_reward else \"Balanced\" if balanced_reward > high_freq_reward else \"High Frequency\"\n",
    "    print(f\"\\nBest strategy at {time_labels[hour]}: {best_strategy}\")\n",
    "    \n",
    "    difference = 0\n",
    "    if best_strategy == \"Demand-Matched\":\n",
    "        difference = demand_matched_reward - balanced_reward\n",
    "        print(f\"Demand-matched outperforms balanced by {difference:.2f} points\")\n",
    "        print(f\"Demand-matched outperforms high frequency by {demand_matched_reward - high_freq_reward:.2f} points\")\n",
    "    elif best_strategy == \"Balanced\":\n",
    "        difference = balanced_reward - demand_matched_reward\n",
    "        print(f\"Balanced outperforms demand-matched by {difference:.2f} points\")\n",
    "        print(f\"Balanced outperforms high frequency by {balanced_reward - high_freq_reward:.2f} points\")\n",
    "    else:\n",
    "        difference = high_freq_reward - balanced_reward\n",
    "        print(f\"High frequency outperforms balanced by {difference:.2f} points\")\n",
    "        print(f\"High frequency outperforms demand-matched by {high_freq_reward - demand_matched_reward:.2f} points\")\n",
    "    \n",
    "    # Strategy recommendation based on difference magnitude\n",
    "    if abs(difference) < 2.0:\n",
    "        print(f\"The difference is small - both strategies work well in this scenario\")\n",
    "    elif abs(difference) > 10.0:\n",
    "        print(f\"The difference is significant - strongly prefer {best_strategy}\")\n",
    "\n",
    "# Final analysis of the improved reward function\n",
    "print(\"\\n\" + \"=\"*50)\n",
    "print(\"FINAL ANALYSIS OF BALANCED REWARD FUNCTION\")\n",
    "print(\"=\"*50)\n",
    "print(\"The balanced reward function now provides more reasonable incentives:\")\n",
    "print(\"1. More moderate penalties for overprovisioning (max 2.5 vs previous 5.0)\")\n",
    "print(\"2. More balanced penalties for underprovisioning (especially during rush hour)\")\n",
    "print(\"3. Reasonable operating costs with time-sensitivity (0.4 at night vs 0.15 during rush)\")\n",
    "print(\"4. Tiered rush hour bonuses to encourage appropriate service levels\")\n",
    "print(\"\\nKey improvements over previous version:\")\n",
    "print(\"- Avoids extreme negative rewards that made learning difficult\")\n",
    "print(\"- Creates a smoother reward landscape with fewer sharp cliffs\")\n",
    "print(\"- Better balances the tradeoff between service quality and efficiency\")\n",
    "print(\"- Encourages matching service to demand rather than extreme min/max strategies\")\n",
    "print(\"\\nThis should result in:\")\n",
    "print(\"- More realistic service allocation across different times of day\")\n",
    "print(\"- Better matching of service to actual demand patterns\")\n",
    "print(\"- Appropriate balance between cost efficiency and service quality\")\n",
    "print(\"- Improved passenger experience with reasonable waiting times\")"
   ]
  }
 ],
 "metadata": {
  "kernelspec": {
   "display_name": ".venv",
   "language": "python",
   "name": "python3"
  },
  "language_info": {
   "codemirror_mode": {
    "name": "ipython",
    "version": 3
   },
   "file_extension": ".py",
   "mimetype": "text/x-python",
   "name": "python",
   "nbconvert_exporter": "python",
   "pygments_lexer": "ipython3",
   "version": "3.12.10"
  }
 },
 "nbformat": 4,
 "nbformat_minor": 5
}
